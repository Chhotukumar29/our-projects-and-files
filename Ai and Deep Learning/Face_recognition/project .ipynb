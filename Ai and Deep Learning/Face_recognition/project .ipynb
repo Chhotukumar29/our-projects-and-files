{
 "cells": [
  {
   "cell_type": "code",
   "execution_count": 7,
   "id": "28a3d6e3",
   "metadata": {},
   "outputs": [],
   "source": [
    "import cv2, glob"
   ]
  },
  {
   "cell_type": "code",
   "execution_count": 8,
   "id": "3e44b3cb",
   "metadata": {},
   "outputs": [],
   "source": [
    "gimage=glob.glob('ppl.jpg')"
   ]
  },
  {
   "cell_type": "code",
   "execution_count": 9,
   "id": "53c1e35e",
   "metadata": {},
   "outputs": [],
   "source": [
    "detect=cv2.CascadeClassifier('haarcascade_frontalface_default.xml')"
   ]
  },
  {
   "cell_type": "code",
   "execution_count": 10,
   "id": "84b04d2c",
   "metadata": {},
   "outputs": [],
   "source": [
    "for timage in gimage:\n",
    "    image=cv2.imread(timage)\n",
    "    grayimg=cv2.cvtColor(image, cv2.COLOR_BGR2GRAY)\n",
    "    face=detect.detectMultiScale(grayimg, 1.25, 3)\n",
    "    for (x,y,w,h) in face:\n",
    "        cv2.rectangle(image, (x,y), (x+w, y+h), (0,255,0), 2)\n",
    "    cv2.imshow('Detect Images', image)\n",
    "    cv2.waitKey(2000)\n",
    "    cv2.destroyAllWindows()"
   ]
  },
  {
   "cell_type": "code",
   "execution_count": null,
   "id": "184f5e41",
   "metadata": {},
   "outputs": [],
   "source": []
  }
 ],
 "metadata": {
  "kernelspec": {
   "display_name": "Python 3 (ipykernel)",
   "language": "python",
   "name": "python3"
  },
  "language_info": {
   "codemirror_mode": {
    "name": "ipython",
    "version": 3
   },
   "file_extension": ".py",
   "mimetype": "text/x-python",
   "name": "python",
   "nbconvert_exporter": "python",
   "pygments_lexer": "ipython3",
   "version": "3.9.12"
  }
 },
 "nbformat": 4,
 "nbformat_minor": 5
}
