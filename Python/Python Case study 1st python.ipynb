{
 "cells": [
  {
   "cell_type": "markdown",
   "id": "afe80b04",
   "metadata": {},
   "source": [
    "# Case Study 1  - Getting Started with python"
   ]
  },
  {
   "cell_type": "raw",
   "id": "6d342410",
   "metadata": {},
   "source": [
    "#1. Create a list containing squares of numbers from 1 to 10 (HINT: use List Comprehension)."
   ]
  },
  {
   "cell_type": "code",
   "execution_count": 1,
   "id": "5d4af808",
   "metadata": {},
   "outputs": [],
   "source": [
    "list = [x**2 for x in range(1,11)]"
   ]
  },
  {
   "cell_type": "code",
   "execution_count": 2,
   "id": "cf0b4ba7",
   "metadata": {},
   "outputs": [
    {
     "data": {
      "text/plain": [
       "[1, 4, 9, 16, 25, 36, 49, 64, 81, 100]"
      ]
     },
     "execution_count": 2,
     "metadata": {},
     "output_type": "execute_result"
    }
   ],
   "source": [
    "list"
   ]
  },
  {
   "cell_type": "raw",
   "id": "8dd4fb7f",
   "metadata": {},
   "source": [
    "# 2.Write a Function to check if year number is a leap year."
   ]
  },
  {
   "cell_type": "code",
   "execution_count": 14,
   "id": "f3b94414",
   "metadata": {},
   "outputs": [
    {
     "name": "stdout",
     "output_type": "stream",
     "text": [
      "Enter a year: 2024\n",
      "2024 is a leap year.\n"
     ]
    }
   ],
   "source": [
    "def CheckLeapYear(year):\n",
    "    if (year%400 == 0) and (year%100 == 0):\n",
    "        print(year, 'is a leap year.')\n",
    "    elif (year%100 != 0) and (year%4 ==0):\n",
    "        print(year, 'is a leap year.')\n",
    "    else:\n",
    "        print(year, 'is not a leap year.')\n",
    "        \n",
    "CheckLeapYear(int(input(\"Enter a year: \",)))"
   ]
  },
  {
   "cell_type": "raw",
   "id": "c77379a3",
   "metadata": {},
   "source": [
    "#3. Write a Function to take an array and return another array that contains the members of first array that are even."
   ]
  },
  {
   "cell_type": "code",
   "execution_count": 15,
   "id": "41d16ccb",
   "metadata": {},
   "outputs": [
    {
     "data": {
      "text/plain": [
       "[0, 2, 4, 6, 8, 10, 12, 14, 16, 18]"
      ]
     },
     "execution_count": 15,
     "metadata": {},
     "output_type": "execute_result"
    }
   ],
   "source": [
    "def even_no(lst):\n",
    "    even_nos = []\n",
    "    for i in lst:\n",
    "        if i % 2 == 0:\n",
    "            even_nos.append(i)\n",
    "    return even_nos\n",
    "\n",
    "l1 = [i for i in range(0,20)]\n",
    "even_no(l1)"
   ]
  },
  {
   "cell_type": "raw",
   "id": "449b2b0a",
   "metadata": {},
   "source": [
    "#4. Write a Function that takes 2 arrays and prints the members of first array that are present of second array.\n",
    "#(HINT: use Membership Comprehension)"
   ]
  },
  {
   "cell_type": "code",
   "execution_count": 17,
   "id": "108aebfe",
   "metadata": {},
   "outputs": [
    {
     "name": "stdout",
     "output_type": "stream",
     "text": [
      "1 13 1 3 6 8 4 9 12 18 19 11 12 2 "
     ]
    }
   ],
   "source": [
    "def membrshp(x1,x2):\n",
    "    for i in x1:\n",
    "        if i in x2:\n",
    "            print(i, end=' ')\n",
    "            \n",
    "x = [1,13,24,1,3,6,8,4,9,12,25,58,18,19,11,12,30,50,2]\n",
    "y = [z for z in range(0,20)]\n",
    "membrshp(x,y)"
   ]
  },
  {
   "cell_type": "code",
   "execution_count": null,
   "id": "3b441754",
   "metadata": {},
   "outputs": [],
   "source": []
  }
 ],
 "metadata": {
  "kernelspec": {
   "display_name": "Python 3",
   "language": "python",
   "name": "python3"
  },
  "language_info": {
   "codemirror_mode": {
    "name": "ipython",
    "version": 3
   },
   "file_extension": ".py",
   "mimetype": "text/x-python",
   "name": "python",
   "nbconvert_exporter": "python",
   "pygments_lexer": "ipython3",
   "version": "3.8.8"
  }
 },
 "nbformat": 4,
 "nbformat_minor": 5
}
