{
 "cells": [
  {
   "cell_type": "markdown",
   "id": "b581506b",
   "metadata": {},
   "source": [
    "# Module 2: Functions Assignment"
   ]
  },
  {
   "cell_type": "raw",
   "id": "b40ea61c",
   "metadata": {},
   "source": [
    "#1. Create a class named ‘Super’ and inside that class define a user-defined function named fun1.\n",
    "# a.  Inside the ‘fun1’ function, pass the message “This is function 1 in the Super class.” in the print statement."
   ]
  },
  {
   "cell_type": "code",
   "execution_count": 2,
   "id": "df9d5546",
   "metadata": {},
   "outputs": [
    {
     "name": "stdout",
     "output_type": "stream",
     "text": [
      "This is function 786 in the Super class.\n"
     ]
    }
   ],
   "source": [
    "class Super:\n",
    "    def fun1():\n",
    "        print('This is function 786 in the Super class.')\n",
    "Super.fun1()"
   ]
  },
  {
   "cell_type": "raw",
   "id": "3fe5f701",
   "metadata": {},
   "source": [
    "#2. Create another classed named ‘Modified_Super’ and inherit this class from the Super class.\n",
    "\n",
    "#a. Inside the Modified_Super class, create a function named ‘fun1’ and pass the following message\n",
    "\n",
    "      #inside the print statement: ‘This is function 1 in the Modified Super class.’\n",
    "      \n",
    "#b. Create another user-defined function named ‘fun2’ and pass the message: ‘This is the 2nd function\n",
    "\n",
    "       #from the Modified Super class’ in the print statement.\n",
    "       \n",
    "#c. After that, now create an object for the Modified_Super class and call the fun1()."
   ]
  },
  {
   "cell_type": "code",
   "execution_count": 5,
   "id": "8810638c",
   "metadata": {},
   "outputs": [
    {
     "name": "stdout",
     "output_type": "stream",
     "text": [
      "This is function 1 in the Modified Super class.\n",
      "This is 2nd function from the Modified Super class.\n"
     ]
    }
   ],
   "source": [
    "class Modified_Super(Super):\n",
    "    def fun1():\n",
    "        print('This is function 1 in the Modified Super class.')\n",
    "    def fun2():\n",
    "        print(\"This is 2nd function from the Modified Super class.\")\n",
    "        \n",
    "Modified_Super.fun1()\n",
    "Modified_Super.fun2()"
   ]
  },
  {
   "cell_type": "raw",
   "id": "4e6e2d46",
   "metadata": {},
   "source": [
    "# 3. Create 2 methods named ‘Hello’. In the 1st Hello method, pass only one argument and pass this message:\n",
    "#   ‘This function is only having 1 argument’. And in the 2nd Hello method, pass two arguments and\n",
    "#    pass this message: ‘This function is having 2 arguments’.\n",
    "    #a. Try to call both the methods and analyze the output of both the methods."
   ]
  },
  {
   "cell_type": "code",
   "execution_count": 6,
   "id": "22535bd5",
   "metadata": {},
   "outputs": [
    {
     "ename": "TypeError",
     "evalue": "Hello() missing 1 required positional argument: 'y'",
     "output_type": "error",
     "traceback": [
      "\u001b[1;31m---------------------------------------------------------------------------\u001b[0m",
      "\u001b[1;31mTypeError\u001b[0m                                 Traceback (most recent call last)",
      "\u001b[1;32m<ipython-input-6-397ce4e529fd>\u001b[0m in \u001b[0;36m<module>\u001b[1;34m\u001b[0m\n\u001b[0;32m      5\u001b[0m         \u001b[0mprint\u001b[0m\u001b[1;33m(\u001b[0m\u001b[1;34m\"This function is having 2 arguments.\"\u001b[0m\u001b[1;33m)\u001b[0m\u001b[1;33m\u001b[0m\u001b[1;33m\u001b[0m\u001b[0m\n\u001b[0;32m      6\u001b[0m \u001b[1;33m\u001b[0m\u001b[0m\n\u001b[1;32m----> 7\u001b[1;33m \u001b[0mGreeting\u001b[0m\u001b[1;33m.\u001b[0m\u001b[0mHello\u001b[0m\u001b[1;33m(\u001b[0m\u001b[1;36m1\u001b[0m\u001b[1;33m)\u001b[0m\u001b[1;33m\u001b[0m\u001b[1;33m\u001b[0m\u001b[0m\n\u001b[0m",
      "\u001b[1;31mTypeError\u001b[0m: Hello() missing 1 required positional argument: 'y'"
     ]
    }
   ],
   "source": [
    "class Greeting:\n",
    "    def Hello(x):\n",
    "        print('This function is only having 1 argument.')\n",
    "    def Hello(x,y):\n",
    "        print(\"This function is having 2 arguments.\")\n",
    "        \n",
    "Greeting.Hello(1)"
   ]
  },
  {
   "cell_type": "code",
   "execution_count": 7,
   "id": "784eedc8",
   "metadata": {},
   "outputs": [
    {
     "name": "stdout",
     "output_type": "stream",
     "text": [
      "This function is having 2 arguments.\n"
     ]
    }
   ],
   "source": [
    "Greeting.Hello(1,2)"
   ]
  },
  {
   "cell_type": "code",
   "execution_count": 8,
   "id": "bdbfd490",
   "metadata": {},
   "outputs": [
    {
     "name": "stdout",
     "output_type": "stream",
     "text": [
      "This function is only having 1 argument.\n"
     ]
    }
   ],
   "source": [
    "class Greeting:\n",
    "    def Hello1(x):\n",
    "        print('This function is only having 1 argument.')\n",
    "    def Hello2(x,y):\n",
    "        print(\"This function is having 2 arguments.\")\n",
    "        \n",
    "Greeting.Hello1(1)"
   ]
  },
  {
   "cell_type": "code",
   "execution_count": 10,
   "id": "5b1c169a",
   "metadata": {},
   "outputs": [
    {
     "name": "stdout",
     "output_type": "stream",
     "text": [
      "This function is having 2 arguments.\n"
     ]
    }
   ],
   "source": [
    "Greeting.Hello2(1,2)"
   ]
  },
  {
   "cell_type": "raw",
   "id": "cfbe8ed8",
   "metadata": {},
   "source": [
    "#4. Create a method named ‘Sum’ that can accept multiple user inputs. Now add those userdefined input values\n",
    "\n",
    "#   using for loop and the function should return the addition of the numbers."
   ]
  },
  {
   "cell_type": "code",
   "execution_count": 14,
   "id": "ac60f07c",
   "metadata": {},
   "outputs": [
    {
     "name": "stdout",
     "output_type": "stream",
     "text": [
      "Enter the no. of elements in the list: 7\n",
      "Enter the elements of the list: 5\n",
      "Enter the elements of the list: 6\n",
      "Enter the elements of the list: 12\n",
      "Enter the elements of the list: 8\n",
      "Enter the elements of the list: 9\n",
      "Enter the elements of the list: 25\n",
      "Enter the elements of the list: 3\n",
      "The sum of the entered elements is:  84\n"
     ]
    }
   ],
   "source": [
    "class add1:\n",
    "    def sum():\n",
    "        x = int(input('Enter the no. of elements in the list: '))\n",
    "        lis1=[]\n",
    "        for i in range(0,x):\n",
    "            lis2=int(input('Enter the elements of the list: '))\n",
    "            lis1.append(12)\n",
    "        result = 0\n",
    "        for i in range(len(lis1)):\n",
    "            result+= lis1[i]\n",
    "        print('The sum of the entered elements is: ', result)\n",
    "add1.sum()"
   ]
  },
  {
   "cell_type": "raw",
   "id": "06e3f698",
   "metadata": {},
   "source": [
    "#5. Create a class named ‘Encapsulation’:\n",
    "    #a. Inside the class, first create a constructor. Inside the constructor,\n",
    "        #initialize originalValue variable as 10.\n",
    "    #b. After creating the constructor, define a function named ‘Value’ and this function should return\n",
    "        #the variable that we have initialized in the constructor.\n",
    "    #c. Now create 2nd function named setValue, and pass an argument named ‘newValue’.\n",
    "        #The task of this function will be to replace the value of the originalValue\n",
    "        #variable by the value of newValue variable."
   ]
  },
  {
   "cell_type": "code",
   "execution_count": 5,
   "id": "2a8e1296",
   "metadata": {},
   "outputs": [],
   "source": [
    "class Encapsulation:\n",
    "    \n",
    "    def __init__(self):\n",
    "        self.originalValue=10\n",
    "    \n",
    "    def Value(self):\n",
    "        return self.originalValue\n",
    "    \n",
    "    def setValue(self,newValue):\n",
    "        self.originalValue=newValue\n",
    "        \n",
    "demo=Encapsulation()"
   ]
  },
  {
   "cell_type": "code",
   "execution_count": 6,
   "id": "72260d17",
   "metadata": {},
   "outputs": [
    {
     "data": {
      "text/plain": [
       "10"
      ]
     },
     "execution_count": 6,
     "metadata": {},
     "output_type": "execute_result"
    }
   ],
   "source": [
    "demo.Value()"
   ]
  },
  {
   "cell_type": "code",
   "execution_count": 8,
   "id": "2055dba3",
   "metadata": {},
   "outputs": [],
   "source": [
    "demo.setValue(90)"
   ]
  },
  {
   "cell_type": "code",
   "execution_count": 9,
   "id": "d385299c",
   "metadata": {},
   "outputs": [
    {
     "data": {
      "text/plain": [
       "90"
      ]
     },
     "execution_count": 9,
     "metadata": {},
     "output_type": "execute_result"
    }
   ],
   "source": [
    "demo.Value()"
   ]
  },
  {
   "cell_type": "code",
   "execution_count": null,
   "id": "c667267d",
   "metadata": {},
   "outputs": [],
   "source": []
  }
 ],
 "metadata": {
  "kernelspec": {
   "display_name": "Python 3",
   "language": "python",
   "name": "python3"
  },
  "language_info": {
   "codemirror_mode": {
    "name": "ipython",
    "version": 3
   },
   "file_extension": ".py",
   "mimetype": "text/x-python",
   "name": "python",
   "nbconvert_exporter": "python",
   "pygments_lexer": "ipython3",
   "version": "3.8.8"
  }
 },
 "nbformat": 4,
 "nbformat_minor": 5
}
