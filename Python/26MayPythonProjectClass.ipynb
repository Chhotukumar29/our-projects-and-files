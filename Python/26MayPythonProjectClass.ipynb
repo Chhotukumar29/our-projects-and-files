{
 "cells": [
  {
   "cell_type": "code",
   "execution_count": 1,
   "id": "122c970c",
   "metadata": {},
   "outputs": [],
   "source": [
    "#Agenda\n",
    "    #Implementation of Python Project"
   ]
  },
  {
   "cell_type": "code",
   "execution_count": null,
   "id": "d1af0c25",
   "metadata": {},
   "outputs": [],
   "source": [
    "C) Linear Regression:\n",
    "a. Build a simple linear model where dependent variable is ‘MonthlyCharges’ and\n",
    "independent variable is ‘tenure’\n",
    "i. Divide the dataset into train and test sets in 70:30 ratio.\n",
    "ii. Build the model on train set and predict the values on test set\n",
    "iii. After predicting the values, find the root mean square error\n",
    "iv. Find out the error in prediction & store the result in ‘error’\n",
    "v. Find the root mean square error "
   ]
  },
  {
   "cell_type": "code",
   "execution_count": 2,
   "id": "cc4ce324",
   "metadata": {},
   "outputs": [],
   "source": [
    "#import the data and Modules\n",
    "import numpy as np\n",
    "import pandas as pd\n",
    "\n",
    "customer_churn = pd.read_csv('cc.csv')"
   ]
  },
  {
   "cell_type": "code",
   "execution_count": 3,
   "id": "66a1993c",
   "metadata": {},
   "outputs": [
    {
     "data": {
      "text/html": [
       "<div>\n",
       "<style scoped>\n",
       "    .dataframe tbody tr th:only-of-type {\n",
       "        vertical-align: middle;\n",
       "    }\n",
       "\n",
       "    .dataframe tbody tr th {\n",
       "        vertical-align: top;\n",
       "    }\n",
       "\n",
       "    .dataframe thead th {\n",
       "        text-align: right;\n",
       "    }\n",
       "</style>\n",
       "<table border=\"1\" class=\"dataframe\">\n",
       "  <thead>\n",
       "    <tr style=\"text-align: right;\">\n",
       "      <th></th>\n",
       "      <th>customerID</th>\n",
       "      <th>gender</th>\n",
       "      <th>SeniorCitizen</th>\n",
       "      <th>Partner</th>\n",
       "      <th>Dependents</th>\n",
       "      <th>tenure</th>\n",
       "      <th>PhoneService</th>\n",
       "      <th>MultipleLines</th>\n",
       "      <th>InternetService</th>\n",
       "      <th>OnlineSecurity</th>\n",
       "      <th>...</th>\n",
       "      <th>DeviceProtection</th>\n",
       "      <th>TechSupport</th>\n",
       "      <th>StreamingTV</th>\n",
       "      <th>StreamingMovies</th>\n",
       "      <th>Contract</th>\n",
       "      <th>PaperlessBilling</th>\n",
       "      <th>PaymentMethod</th>\n",
       "      <th>MonthlyCharges</th>\n",
       "      <th>TotalCharges</th>\n",
       "      <th>Churn</th>\n",
       "    </tr>\n",
       "  </thead>\n",
       "  <tbody>\n",
       "    <tr>\n",
       "      <th>0</th>\n",
       "      <td>7590-VHVEG</td>\n",
       "      <td>Female</td>\n",
       "      <td>0</td>\n",
       "      <td>Yes</td>\n",
       "      <td>No</td>\n",
       "      <td>1</td>\n",
       "      <td>No</td>\n",
       "      <td>No phone service</td>\n",
       "      <td>DSL</td>\n",
       "      <td>No</td>\n",
       "      <td>...</td>\n",
       "      <td>No</td>\n",
       "      <td>No</td>\n",
       "      <td>No</td>\n",
       "      <td>No</td>\n",
       "      <td>Month-to-month</td>\n",
       "      <td>Yes</td>\n",
       "      <td>Electronic check</td>\n",
       "      <td>29.85</td>\n",
       "      <td>29.85</td>\n",
       "      <td>No</td>\n",
       "    </tr>\n",
       "    <tr>\n",
       "      <th>1</th>\n",
       "      <td>5575-GNVDE</td>\n",
       "      <td>Male</td>\n",
       "      <td>0</td>\n",
       "      <td>No</td>\n",
       "      <td>No</td>\n",
       "      <td>34</td>\n",
       "      <td>Yes</td>\n",
       "      <td>No</td>\n",
       "      <td>DSL</td>\n",
       "      <td>Yes</td>\n",
       "      <td>...</td>\n",
       "      <td>Yes</td>\n",
       "      <td>No</td>\n",
       "      <td>No</td>\n",
       "      <td>No</td>\n",
       "      <td>One year</td>\n",
       "      <td>No</td>\n",
       "      <td>Mailed check</td>\n",
       "      <td>56.95</td>\n",
       "      <td>1889.5</td>\n",
       "      <td>No</td>\n",
       "    </tr>\n",
       "    <tr>\n",
       "      <th>2</th>\n",
       "      <td>3668-QPYBK</td>\n",
       "      <td>Male</td>\n",
       "      <td>0</td>\n",
       "      <td>No</td>\n",
       "      <td>No</td>\n",
       "      <td>2</td>\n",
       "      <td>Yes</td>\n",
       "      <td>No</td>\n",
       "      <td>DSL</td>\n",
       "      <td>Yes</td>\n",
       "      <td>...</td>\n",
       "      <td>No</td>\n",
       "      <td>No</td>\n",
       "      <td>No</td>\n",
       "      <td>No</td>\n",
       "      <td>Month-to-month</td>\n",
       "      <td>Yes</td>\n",
       "      <td>Mailed check</td>\n",
       "      <td>53.85</td>\n",
       "      <td>108.15</td>\n",
       "      <td>Yes</td>\n",
       "    </tr>\n",
       "    <tr>\n",
       "      <th>3</th>\n",
       "      <td>7795-CFOCW</td>\n",
       "      <td>Male</td>\n",
       "      <td>0</td>\n",
       "      <td>No</td>\n",
       "      <td>No</td>\n",
       "      <td>45</td>\n",
       "      <td>No</td>\n",
       "      <td>No phone service</td>\n",
       "      <td>DSL</td>\n",
       "      <td>Yes</td>\n",
       "      <td>...</td>\n",
       "      <td>Yes</td>\n",
       "      <td>Yes</td>\n",
       "      <td>No</td>\n",
       "      <td>No</td>\n",
       "      <td>One year</td>\n",
       "      <td>No</td>\n",
       "      <td>Bank transfer (automatic)</td>\n",
       "      <td>42.30</td>\n",
       "      <td>1840.75</td>\n",
       "      <td>No</td>\n",
       "    </tr>\n",
       "    <tr>\n",
       "      <th>4</th>\n",
       "      <td>9237-HQITU</td>\n",
       "      <td>Female</td>\n",
       "      <td>0</td>\n",
       "      <td>No</td>\n",
       "      <td>No</td>\n",
       "      <td>2</td>\n",
       "      <td>Yes</td>\n",
       "      <td>No</td>\n",
       "      <td>Fiber optic</td>\n",
       "      <td>No</td>\n",
       "      <td>...</td>\n",
       "      <td>No</td>\n",
       "      <td>No</td>\n",
       "      <td>No</td>\n",
       "      <td>No</td>\n",
       "      <td>Month-to-month</td>\n",
       "      <td>Yes</td>\n",
       "      <td>Electronic check</td>\n",
       "      <td>70.70</td>\n",
       "      <td>151.65</td>\n",
       "      <td>Yes</td>\n",
       "    </tr>\n",
       "  </tbody>\n",
       "</table>\n",
       "<p>5 rows × 21 columns</p>\n",
       "</div>"
      ],
      "text/plain": [
       "   customerID  gender  SeniorCitizen Partner Dependents  tenure PhoneService  \\\n",
       "0  7590-VHVEG  Female              0     Yes         No       1           No   \n",
       "1  5575-GNVDE    Male              0      No         No      34          Yes   \n",
       "2  3668-QPYBK    Male              0      No         No       2          Yes   \n",
       "3  7795-CFOCW    Male              0      No         No      45           No   \n",
       "4  9237-HQITU  Female              0      No         No       2          Yes   \n",
       "\n",
       "      MultipleLines InternetService OnlineSecurity  ... DeviceProtection  \\\n",
       "0  No phone service             DSL             No  ...               No   \n",
       "1                No             DSL            Yes  ...              Yes   \n",
       "2                No             DSL            Yes  ...               No   \n",
       "3  No phone service             DSL            Yes  ...              Yes   \n",
       "4                No     Fiber optic             No  ...               No   \n",
       "\n",
       "  TechSupport StreamingTV StreamingMovies        Contract PaperlessBilling  \\\n",
       "0          No          No              No  Month-to-month              Yes   \n",
       "1          No          No              No        One year               No   \n",
       "2          No          No              No  Month-to-month              Yes   \n",
       "3         Yes          No              No        One year               No   \n",
       "4          No          No              No  Month-to-month              Yes   \n",
       "\n",
       "               PaymentMethod MonthlyCharges  TotalCharges Churn  \n",
       "0           Electronic check          29.85         29.85    No  \n",
       "1               Mailed check          56.95        1889.5    No  \n",
       "2               Mailed check          53.85        108.15   Yes  \n",
       "3  Bank transfer (automatic)          42.30       1840.75    No  \n",
       "4           Electronic check          70.70        151.65   Yes  \n",
       "\n",
       "[5 rows x 21 columns]"
      ]
     },
     "execution_count": 3,
     "metadata": {},
     "output_type": "execute_result"
    }
   ],
   "source": [
    "customer_churn.head()"
   ]
  },
  {
   "cell_type": "code",
   "execution_count": 4,
   "id": "5557217a",
   "metadata": {},
   "outputs": [],
   "source": [
    "#import the Modules\n",
    "from sklearn import linear_model #linear Regression\n",
    "from sklearn.model_selection import train_test_split"
   ]
  },
  {
   "cell_type": "code",
   "execution_count": 5,
   "id": "2790887e",
   "metadata": {},
   "outputs": [],
   "source": [
    "#a. Build a simple linear model where dependent variable is ‘MonthlyCharges’ and independent variable is ‘tenure’\n",
    "x = pd.DataFrame(customer_churn['tenure'])\n",
    "y = pd.DataFrame(customer_churn['MonthlyCharges'])"
   ]
  },
  {
   "cell_type": "code",
   "execution_count": 6,
   "id": "b95476a8",
   "metadata": {},
   "outputs": [],
   "source": [
    "#i. Divide the dataset into train and test sets in 70:30 ratio\n",
    "x_train,x_test,y_train,y_test = train_test_split(x,y,test_size = 0.3,random_state = 0)"
   ]
  },
  {
   "cell_type": "code",
   "execution_count": null,
   "id": "343f720d",
   "metadata": {},
   "outputs": [],
   "source": [
    "1,2,3,4,5,6,7,8,9,10 "
   ]
  },
  {
   "cell_type": "code",
   "execution_count": 7,
   "id": "06d1709a",
   "metadata": {},
   "outputs": [
    {
     "data": {
      "text/plain": [
       "LinearRegression()"
      ]
     },
     "execution_count": 7,
     "metadata": {},
     "output_type": "execute_result"
    }
   ],
   "source": [
    "#ii. Build the model on train set and predict the values on test set\n",
    "\n",
    "from sklearn.linear_model import LinearRegression\n",
    "linreg = LinearRegression()\n",
    "linreg.fit(x_train,y_train)"
   ]
  },
  {
   "cell_type": "code",
   "execution_count": 8,
   "id": "be3d3791",
   "metadata": {},
   "outputs": [],
   "source": [
    "#iii. After predicting the values, find the root mean square error\n",
    "#iv. Find out the error in prediction & store the result in ‘error’\n",
    "y_pred = linreg.predict(x_test)"
   ]
  },
  {
   "cell_type": "code",
   "execution_count": 11,
   "id": "ab9193f3",
   "metadata": {},
   "outputs": [],
   "source": [
    "#v. Find the root mean square error \n",
    "from sklearn.metrics import mean_squared_error\n",
    "\n",
    "mse = mean_squared_error(y_pred,y_test)"
   ]
  },
  {
   "cell_type": "code",
   "execution_count": 12,
   "id": "5a0e86de",
   "metadata": {},
   "outputs": [
    {
     "name": "stdout",
     "output_type": "stream",
     "text": [
      "29.394584027273893\n"
     ]
    }
   ],
   "source": [
    "rmse = np.sqrt(mse)\n",
    "print(rmse)"
   ]
  },
  {
   "cell_type": "code",
   "execution_count": null,
   "id": "bdabfe14",
   "metadata": {},
   "outputs": [],
   "source": [
    "a. Build a simple logistic regression modelwhere dependent variable is ‘Churn’ &\n",
    "independent variable is ‘MonthlyCharges’\n",
    "i. Divide the dataset in 65:35 ratio\n",
    "ii. Build the model on train set and predict the values on test set\n",
    "iii. Build the confusion matrix and get the accuracy score"
   ]
  },
  {
   "cell_type": "code",
   "execution_count": 14,
   "id": "0827c29f",
   "metadata": {},
   "outputs": [],
   "source": [
    "#a. Build a simple logistic regression modelwhere dependent variable is ‘Churn’ & independent variable is ‘MonthlyCharges’\n",
    "x = pd.DataFrame(customer_churn['MonthlyCharges'])\n",
    "y = pd.DataFrame(customer_churn['Churn'])"
   ]
  },
  {
   "cell_type": "code",
   "execution_count": 15,
   "id": "79be69b1",
   "metadata": {},
   "outputs": [],
   "source": [
    "#i. Divide the dataset in 65:35 ratio\n",
    "x_train,x_test,y_train,y_test = train_test_split(x,y,test_size = 0.35,random_state = 0)"
   ]
  },
  {
   "cell_type": "code",
   "execution_count": 17,
   "id": "fb118765",
   "metadata": {},
   "outputs": [
    {
     "name": "stderr",
     "output_type": "stream",
     "text": [
      "C:\\Users\\Admin\\anaconda3\\lib\\site-packages\\sklearn\\utils\\validation.py:63: DataConversionWarning: A column-vector y was passed when a 1d array was expected. Please change the shape of y to (n_samples, ), for example using ravel().\n",
      "  return f(*args, **kwargs)\n"
     ]
    },
    {
     "data": {
      "text/plain": [
       "LogisticRegression()"
      ]
     },
     "execution_count": 17,
     "metadata": {},
     "output_type": "execute_result"
    }
   ],
   "source": [
    "#ii. Build the model on train set and predict the values on test set\n",
    "from sklearn.linear_model import LogisticRegression\n",
    "logmodel = LogisticRegression()\n",
    "logmodel.fit(x_train,y_train)"
   ]
  },
  {
   "cell_type": "code",
   "execution_count": 18,
   "id": "13489829",
   "metadata": {},
   "outputs": [],
   "source": [
    "#predict the values\n",
    "y_pred = logmodel.predict(x_test)"
   ]
  },
  {
   "cell_type": "code",
   "execution_count": 20,
   "id": "31a5f891",
   "metadata": {},
   "outputs": [
    {
     "data": {
      "text/plain": [
       "array([[1815,  651],\n",
       "       [   0,    0]], dtype=int64)"
      ]
     },
     "execution_count": 20,
     "metadata": {},
     "output_type": "execute_result"
    }
   ],
   "source": [
    "#iii. Build the confusion matrix and get the accuracy score\n",
    "from sklearn.metrics import confusion_matrix,accuracy_score\n",
    "confusion_matrix(y_pred,y_test)"
   ]
  },
  {
   "cell_type": "code",
   "execution_count": null,
   "id": "b0cba14a",
   "metadata": {},
   "outputs": [],
   "source": [
    "1,1,0,1,0,1,0,1,1,0 : expected values\n",
    "1,0,0,1,1,0,0,0,1,0 : result values"
   ]
  },
  {
   "cell_type": "code",
   "execution_count": null,
   "id": "54f90786",
   "metadata": {},
   "outputs": [],
   "source": [
    "if expected 0, got 0 : +1 \n",
    "if expected 0, got 1 : +1 \n",
    "if expected 1, got 0 : +1 \n",
    "if expected 1, got 1 : +1 \n",
    "\n",
    "3  1\n",
    "2  3"
   ]
  },
  {
   "cell_type": "code",
   "execution_count": 21,
   "id": "047b98f5",
   "metadata": {},
   "outputs": [
    {
     "data": {
      "text/plain": [
       "0.7360097323600974"
      ]
     },
     "execution_count": 21,
     "metadata": {},
     "output_type": "execute_result"
    }
   ],
   "source": [
    "accuracy_score(y_pred,y_test)"
   ]
  },
  {
   "cell_type": "code",
   "execution_count": 23,
   "id": "6cd2b66c",
   "metadata": {},
   "outputs": [
    {
     "data": {
      "text/plain": [
       "0.7360097323600974"
      ]
     },
     "execution_count": 23,
     "metadata": {},
     "output_type": "execute_result"
    }
   ],
   "source": [
    "(1815+0)/(1815+651+0+0)"
   ]
  },
  {
   "cell_type": "code",
   "execution_count": null,
   "id": "a9ae2b17",
   "metadata": {},
   "outputs": [],
   "source": [
    "a. Build a decision tree model where dependent variable is ‘Churn’ & independent\n",
    "variable is ‘tenure’\n",
    "i. Divide the dataset in 80:20 ratio\n",
    "ii. Build the model on train set and predict the values on test set\n",
    "iii. Build the confusion matrix and calculate the accuracy\n"
   ]
  },
  {
   "cell_type": "code",
   "execution_count": 24,
   "id": "edd7bafd",
   "metadata": {},
   "outputs": [],
   "source": [
    "#a. Build a decision tree model where dependent variable is ‘Churn’ & independent variable is ‘tenure’\n",
    "x = pd.DataFrame(customer_churn['tenure'])\n",
    "y = pd.DataFrame(customer_churn['Churn'])"
   ]
  },
  {
   "cell_type": "code",
   "execution_count": 25,
   "id": "22e6e5db",
   "metadata": {},
   "outputs": [],
   "source": [
    "#i. Divide the dataset in 80:20 ratio\n",
    "x_train,x_test,y_train,y_test = train_test_split(x,y,test_size=0.2,random_state = 0)"
   ]
  },
  {
   "cell_type": "code",
   "execution_count": 26,
   "id": "9a101f08",
   "metadata": {},
   "outputs": [
    {
     "data": {
      "text/plain": [
       "DecisionTreeClassifier()"
      ]
     },
     "execution_count": 26,
     "metadata": {},
     "output_type": "execute_result"
    }
   ],
   "source": [
    "#ii. Build the model on train set and predict the values on test set\n",
    "from sklearn.tree import DecisionTreeClassifier\n",
    "classifier = DecisionTreeClassifier()\n",
    "classifier.fit(x_train,y_train)"
   ]
  },
  {
   "cell_type": "code",
   "execution_count": 27,
   "id": "656238bb",
   "metadata": {},
   "outputs": [],
   "source": [
    "y_pred = classifier.predict(x_test)"
   ]
  },
  {
   "cell_type": "code",
   "execution_count": 28,
   "id": "f132b042",
   "metadata": {},
   "outputs": [
    {
     "data": {
      "text/plain": [
       "array([[965, 281],\n",
       "       [ 76,  87]], dtype=int64)"
      ]
     },
     "execution_count": 28,
     "metadata": {},
     "output_type": "execute_result"
    }
   ],
   "source": [
    "#iii. Build the confusion matrix and calculate the accuracy\n",
    "confusion_matrix(y_pred,y_test)"
   ]
  },
  {
   "cell_type": "code",
   "execution_count": 29,
   "id": "7fa0b8e8",
   "metadata": {},
   "outputs": [
    {
     "data": {
      "text/plain": [
       "0.7466288147622427"
      ]
     },
     "execution_count": 29,
     "metadata": {},
     "output_type": "execute_result"
    }
   ],
   "source": [
    "accuracy_score(y_pred,y_test)"
   ]
  },
  {
   "cell_type": "code",
   "execution_count": 30,
   "id": "6568aee6",
   "metadata": {},
   "outputs": [
    {
     "data": {
      "text/plain": [
       "0.7466288147622427"
      ]
     },
     "execution_count": 30,
     "metadata": {},
     "output_type": "execute_result"
    }
   ],
   "source": [
    "(965+87)/(965+281+76+87)"
   ]
  },
  {
   "cell_type": "code",
   "execution_count": null,
   "id": "0211d46a",
   "metadata": {},
   "outputs": [],
   "source": [
    "a. Build a Random Forest model where dependent variable is ‘Churn’ & independent\n",
    "variables are ‘tenure’ and ‘MonthlyCharges’\n",
    "i. Divide the dataset in 70:30 ratio\n",
    "ii. Build the model on train set and predict the values on test set\n",
    "iii. Build the confusion matrix and calculate the accuracy "
   ]
  },
  {
   "cell_type": "code",
   "execution_count": 31,
   "id": "2a53ca29",
   "metadata": {},
   "outputs": [],
   "source": [
    "#a. Build a Random Forest model where dependent variable is ‘Churn’ & independent variables are ‘tenure’ and ‘MonthlyCharges’\n",
    "x = pd.DataFrame(customer_churn[['tenure','MonthlyCharges']])\n",
    "y = pd.DataFrame(customer_churn['Churn'])"
   ]
  },
  {
   "cell_type": "code",
   "execution_count": 33,
   "id": "419c5333",
   "metadata": {},
   "outputs": [],
   "source": [
    "#i. Divide the dataset in 70:30 ratio\n",
    "x_train,x_test,y_train,y_test = train_test_split(x,y,test_size = 0.3)"
   ]
  },
  {
   "cell_type": "code",
   "execution_count": 36,
   "id": "3a4505ed",
   "metadata": {},
   "outputs": [
    {
     "name": "stderr",
     "output_type": "stream",
     "text": [
      "<ipython-input-36-8c21a06b83bd>:4: DataConversionWarning: A column-vector y was passed when a 1d array was expected. Please change the shape of y to (n_samples,), for example using ravel().\n",
      "  clf.fit(x_train,y_train)\n"
     ]
    },
    {
     "data": {
      "text/plain": [
       "RandomForestClassifier()"
      ]
     },
     "execution_count": 36,
     "metadata": {},
     "output_type": "execute_result"
    }
   ],
   "source": [
    "#ii. Build the model on train set and predict the values on test set\n",
    "from sklearn.ensemble import RandomForestClassifier\n",
    "clf = RandomForestClassifier()\n",
    "clf.fit(x_train,y_train)"
   ]
  },
  {
   "cell_type": "code",
   "execution_count": 37,
   "id": "ba4896b5",
   "metadata": {},
   "outputs": [],
   "source": [
    "y_pred = clf.predict(x_test)"
   ]
  },
  {
   "cell_type": "code",
   "execution_count": 38,
   "id": "e549c63b",
   "metadata": {},
   "outputs": [
    {
     "data": {
      "text/plain": [
       "array([[1324,  339],\n",
       "       [ 204,  246]], dtype=int64)"
      ]
     },
     "execution_count": 38,
     "metadata": {},
     "output_type": "execute_result"
    }
   ],
   "source": [
    "#iii. Build the confusion matrix and calculate the accuracy \n",
    "confusion_matrix(y_pred,y_test)"
   ]
  },
  {
   "cell_type": "code",
   "execution_count": 39,
   "id": "b697ebe9",
   "metadata": {},
   "outputs": [
    {
     "data": {
      "text/plain": [
       "0.7430194036914339"
      ]
     },
     "execution_count": 39,
     "metadata": {},
     "output_type": "execute_result"
    }
   ],
   "source": [
    "accuracy_score(y_pred,y_test)"
   ]
  },
  {
   "cell_type": "code",
   "execution_count": 40,
   "id": "c25c2f2b",
   "metadata": {},
   "outputs": [
    {
     "data": {
      "text/plain": [
       "0.7430194036914339"
      ]
     },
     "execution_count": 40,
     "metadata": {},
     "output_type": "execute_result"
    }
   ],
   "source": [
    "(1324+246)/(1324+339+204+246)"
   ]
  },
  {
   "cell_type": "code",
   "execution_count": 41,
   "id": "d1d68f3e",
   "metadata": {},
   "outputs": [],
   "source": [
    "from sklearn import tree\n",
    "\n"
   ]
  },
  {
   "cell_type": "code",
   "execution_count": 43,
   "id": "1c1becd6",
   "metadata": {},
   "outputs": [
    {
     "data": {
      "text/plain": [
       "[Text(123.32521551724139, 208.38, 'X[0] <= 16.5\\ngini = 0.391\\nsamples = 5634\\nvalue = [4133, 1501]'),\n",
       " Text(39.4448275862069, 190.26, 'X[0] <= 5.5\\ngini = 0.498\\nsamples = 2034\\nvalue = [1086, 948]'),\n",
       " Text(15.393103448275863, 172.14, 'X[0] <= 1.5\\ngini = 0.494\\nsamples = 1087\\nvalue = [482, 605]'),\n",
       " Text(7.696551724137931, 154.01999999999998, 'X[0] <= 0.5\\ngini = 0.47\\nsamples = 499\\nvalue = [188, 311]'),\n",
       " Text(3.8482758620689657, 135.89999999999998, 'gini = 0.0\\nsamples = 8\\nvalue = [8, 0]'),\n",
       " Text(11.544827586206896, 135.89999999999998, 'gini = 0.464\\nsamples = 491\\nvalue = [180, 311]'),\n",
       " Text(23.089655172413792, 154.01999999999998, 'X[0] <= 2.5\\ngini = 0.5\\nsamples = 588\\nvalue = [294, 294]'),\n",
       " Text(19.24137931034483, 135.89999999999998, 'gini = 0.498\\nsamples = 197\\nvalue = [92, 105]'),\n",
       " Text(26.93793103448276, 135.89999999999998, 'X[0] <= 4.5\\ngini = 0.499\\nsamples = 391\\nvalue = [202, 189]'),\n",
       " Text(23.089655172413792, 117.77999999999999, 'X[0] <= 3.5\\ngini = 0.499\\nsamples = 291\\nvalue = [151, 140]'),\n",
       " Text(19.24137931034483, 99.66, 'gini = 0.499\\nsamples = 160\\nvalue = [83, 77]'),\n",
       " Text(26.93793103448276, 99.66, 'gini = 0.499\\nsamples = 131\\nvalue = [68, 63]'),\n",
       " Text(30.786206896551725, 117.77999999999999, 'gini = 0.5\\nsamples = 100\\nvalue = [51, 49]'),\n",
       " Text(63.49655172413793, 172.14, 'X[0] <= 10.5\\ngini = 0.462\\nsamples = 947\\nvalue = [604, 343]'),\n",
       " Text(46.179310344827584, 154.01999999999998, 'X[0] <= 9.5\\ngini = 0.473\\nsamples = 499\\nvalue = [308, 191]'),\n",
       " Text(42.331034482758625, 135.89999999999998, 'X[0] <= 6.5\\ngini = 0.469\\nsamples = 411\\nvalue = [257, 154]'),\n",
       " Text(38.48275862068966, 117.77999999999999, 'gini = 0.464\\nsamples = 90\\nvalue = [57, 33]'),\n",
       " Text(46.179310344827584, 117.77999999999999, 'X[0] <= 7.5\\ngini = 0.47\\nsamples = 321\\nvalue = [200, 121]'),\n",
       " Text(42.331034482758625, 99.66, 'gini = 0.468\\nsamples = 115\\nvalue = [72, 43]'),\n",
       " Text(50.02758620689655, 99.66, 'X[0] <= 8.5\\ngini = 0.471\\nsamples = 206\\nvalue = [128, 78]'),\n",
       " Text(46.179310344827584, 81.53999999999999, 'gini = 0.471\\nsamples = 100\\nvalue = [62, 38]'),\n",
       " Text(53.87586206896552, 81.53999999999999, 'gini = 0.47\\nsamples = 106\\nvalue = [66, 40]'),\n",
       " Text(50.02758620689655, 135.89999999999998, 'gini = 0.487\\nsamples = 88\\nvalue = [51, 37]'),\n",
       " Text(80.81379310344828, 154.01999999999998, 'X[0] <= 14.5\\ngini = 0.448\\nsamples = 448\\nvalue = [296, 152]'),\n",
       " Text(73.11724137931034, 135.89999999999998, 'X[0] <= 13.5\\ngini = 0.439\\nsamples = 301\\nvalue = [203, 98]'),\n",
       " Text(69.26896551724138, 117.77999999999999, 'X[0] <= 12.5\\ngini = 0.444\\nsamples = 240\\nvalue = [160, 80]'),\n",
       " Text(65.42068965517241, 99.66, 'X[0] <= 11.5\\ngini = 0.433\\nsamples = 161\\nvalue = [110, 51]'),\n",
       " Text(61.57241379310345, 81.53999999999999, 'gini = 0.435\\nsamples = 75\\nvalue = [51, 24]'),\n",
       " Text(69.26896551724138, 81.53999999999999, 'gini = 0.431\\nsamples = 86\\nvalue = [59, 27]'),\n",
       " Text(73.11724137931034, 99.66, 'gini = 0.465\\nsamples = 79\\nvalue = [50, 29]'),\n",
       " Text(76.96551724137932, 117.77999999999999, 'gini = 0.416\\nsamples = 61\\nvalue = [43, 18]'),\n",
       " Text(88.51034482758621, 135.89999999999998, 'X[0] <= 15.5\\ngini = 0.465\\nsamples = 147\\nvalue = [93, 54]'),\n",
       " Text(84.66206896551725, 117.77999999999999, 'gini = 0.461\\nsamples = 86\\nvalue = [55, 31]'),\n",
       " Text(92.35862068965517, 117.77999999999999, 'gini = 0.47\\nsamples = 61\\nvalue = [38, 23]'),\n",
       " Text(207.20560344827587, 190.26, 'X[0] <= 43.5\\ngini = 0.26\\nsamples = 3600\\nvalue = [3047, 553]'),\n",
       " Text(136.85431034482758, 172.14, 'X[0] <= 22.5\\ngini = 0.351\\nsamples = 1556\\nvalue = [1202, 354]'),\n",
       " Text(100.0551724137931, 154.01999999999998, 'X[0] <= 17.5\\ngini = 0.39\\nsamples = 395\\nvalue = [290, 105]'),\n",
       " Text(96.20689655172414, 135.89999999999998, 'gini = 0.415\\nsamples = 75\\nvalue = [53, 22]'),\n",
       " Text(103.90344827586208, 135.89999999999998, 'X[0] <= 21.5\\ngini = 0.384\\nsamples = 320\\nvalue = [237, 83]'),\n",
       " Text(100.0551724137931, 117.77999999999999, 'X[0] <= 18.5\\ngini = 0.381\\nsamples = 246\\nvalue = [183, 63]'),\n",
       " Text(96.20689655172414, 99.66, 'gini = 0.393\\nsamples = 82\\nvalue = [60, 22]'),\n",
       " Text(103.90344827586208, 99.66, 'X[0] <= 19.5\\ngini = 0.375\\nsamples = 164\\nvalue = [123, 41]'),\n",
       " Text(100.0551724137931, 81.53999999999999, 'gini = 0.375\\nsamples = 52\\nvalue = [39, 13]'),\n",
       " Text(107.75172413793103, 81.53999999999999, 'X[0] <= 20.5\\ngini = 0.375\\nsamples = 112\\nvalue = [84, 28]'),\n",
       " Text(103.90344827586208, 63.41999999999999, 'gini = 0.375\\nsamples = 60\\nvalue = [45, 15]'),\n",
       " Text(111.60000000000001, 63.41999999999999, 'gini = 0.375\\nsamples = 52\\nvalue = [39, 13]'),\n",
       " Text(107.75172413793103, 117.77999999999999, 'gini = 0.394\\nsamples = 74\\nvalue = [54, 20]'),\n",
       " Text(173.65344827586208, 154.01999999999998, 'X[0] <= 35.5\\ngini = 0.337\\nsamples = 1161\\nvalue = [912, 249]'),\n",
       " Text(143.34827586206896, 135.89999999999998, 'X[0] <= 34.5\\ngini = 0.327\\nsamples = 763\\nvalue = [606, 157]'),\n",
       " Text(139.5, 117.77999999999999, 'X[0] <= 25.5\\ngini = 0.332\\nsamples = 700\\nvalue = [553, 147]'),\n",
       " Text(126.99310344827586, 99.66, 'X[0] <= 24.5\\ngini = 0.353\\nsamples = 210\\nvalue = [162, 48]'),\n",
       " Text(123.1448275862069, 81.53999999999999, 'X[0] <= 23.5\\ngini = 0.323\\nsamples = 148\\nvalue = [118, 30]'),\n",
       " Text(119.29655172413794, 63.41999999999999, 'gini = 0.309\\nsamples = 68\\nvalue = [55, 13]'),\n",
       " Text(126.99310344827586, 63.41999999999999, 'gini = 0.335\\nsamples = 80\\nvalue = [63, 17]'),\n",
       " Text(130.84137931034482, 81.53999999999999, 'gini = 0.412\\nsamples = 62\\nvalue = [44, 18]'),\n",
       " Text(152.00689655172414, 99.66, 'X[0] <= 28.5\\ngini = 0.322\\nsamples = 490\\nvalue = [391, 99]'),\n",
       " Text(138.53793103448277, 81.53999999999999, 'X[0] <= 26.5\\ngini = 0.3\\nsamples = 158\\nvalue = [129, 29]'),\n",
       " Text(134.6896551724138, 63.41999999999999, 'gini = 0.289\\nsamples = 57\\nvalue = [47, 10]'),\n",
       " Text(142.38620689655173, 63.41999999999999, 'X[0] <= 27.5\\ngini = 0.305\\nsamples = 101\\nvalue = [82, 19]'),\n",
       " Text(138.53793103448277, 45.29999999999998, 'gini = 0.307\\nsamples = 58\\nvalue = [47, 11]'),\n",
       " Text(146.2344827586207, 45.29999999999998, 'gini = 0.303\\nsamples = 43\\nvalue = [35, 8]'),\n",
       " Text(165.4758620689655, 81.53999999999999, 'X[0] <= 30.5\\ngini = 0.333\\nsamples = 332\\nvalue = [262, 70]'),\n",
       " Text(157.7793103448276, 63.41999999999999, 'X[0] <= 29.5\\ngini = 0.352\\nsamples = 114\\nvalue = [88, 26]'),\n",
       " Text(153.93103448275863, 45.29999999999998, 'gini = 0.332\\nsamples = 57\\nvalue = [45, 12]'),\n",
       " Text(161.62758620689655, 45.29999999999998, 'gini = 0.371\\nsamples = 57\\nvalue = [43, 14]'),\n",
       " Text(173.17241379310346, 63.41999999999999, 'X[0] <= 31.5\\ngini = 0.322\\nsamples = 218\\nvalue = [174, 44]'),\n",
       " Text(169.3241379310345, 45.29999999999998, 'gini = 0.302\\nsamples = 54\\nvalue = [44, 10]'),\n",
       " Text(177.02068965517242, 45.29999999999998, 'X[0] <= 33.5\\ngini = 0.329\\nsamples = 164\\nvalue = [130, 34]'),\n",
       " Text(173.17241379310346, 27.17999999999998, 'X[0] <= 32.5\\ngini = 0.335\\nsamples = 108\\nvalue = [85, 23]'),\n",
       " Text(169.3241379310345, 9.059999999999974, 'gini = 0.329\\nsamples = 53\\nvalue = [42, 11]'),\n",
       " Text(177.02068965517242, 9.059999999999974, 'gini = 0.341\\nsamples = 55\\nvalue = [43, 12]'),\n",
       " Text(180.86896551724138, 27.17999999999998, 'gini = 0.316\\nsamples = 56\\nvalue = [45, 11]'),\n",
       " Text(147.19655172413795, 117.77999999999999, 'gini = 0.267\\nsamples = 63\\nvalue = [53, 10]'),\n",
       " Text(203.9586206896552, 135.89999999999998, 'X[0] <= 41.5\\ngini = 0.355\\nsamples = 398\\nvalue = [306, 92]'),\n",
       " Text(192.41379310344828, 117.77999999999999, 'X[0] <= 38.5\\ngini = 0.364\\nsamples = 293\\nvalue = [223, 70]'),\n",
       " Text(180.86896551724138, 99.66, 'X[0] <= 36.5\\ngini = 0.344\\nsamples = 136\\nvalue = [106, 30]'),\n",
       " Text(177.02068965517242, 81.53999999999999, 'gini = 0.388\\nsamples = 38\\nvalue = [28, 10]'),\n",
       " Text(184.71724137931034, 81.53999999999999, 'X[0] <= 37.5\\ngini = 0.325\\nsamples = 98\\nvalue = [78, 20]'),\n",
       " Text(180.86896551724138, 63.41999999999999, 'gini = 0.338\\nsamples = 51\\nvalue = [40, 11]'),\n",
       " Text(188.56551724137933, 63.41999999999999, 'gini = 0.31\\nsamples = 47\\nvalue = [38, 9]'),\n",
       " Text(203.9586206896552, 99.66, 'X[0] <= 40.5\\ngini = 0.38\\nsamples = 157\\nvalue = [117, 40]'),\n",
       " Text(200.1103448275862, 81.53999999999999, 'X[0] <= 39.5\\ngini = 0.39\\nsamples = 98\\nvalue = [72, 26]'),\n",
       " Text(196.26206896551724, 63.41999999999999, 'gini = 0.395\\nsamples = 48\\nvalue = [35, 13]'),\n",
       " Text(203.9586206896552, 63.41999999999999, 'gini = 0.385\\nsamples = 50\\nvalue = [37, 13]'),\n",
       " Text(207.80689655172415, 81.53999999999999, 'gini = 0.362\\nsamples = 59\\nvalue = [45, 14]'),\n",
       " Text(215.50344827586207, 117.77999999999999, 'X[0] <= 42.5\\ngini = 0.331\\nsamples = 105\\nvalue = [83, 22]'),\n",
       " Text(211.6551724137931, 99.66, 'gini = 0.338\\nsamples = 51\\nvalue = [40, 11]'),\n",
       " Text(219.35172413793103, 99.66, 'gini = 0.324\\nsamples = 54\\nvalue = [43, 11]'),\n",
       " Text(277.55689655172415, 172.14, 'X[0] <= 61.5\\ngini = 0.176\\nsamples = 2044\\nvalue = [1845, 199]'),\n",
       " Text(240.51724137931035, 154.01999999999998, 'X[0] <= 45.5\\ngini = 0.238\\nsamples = 971\\nvalue = [837, 134]'),\n",
       " Text(227.04827586206898, 135.89999999999998, 'X[0] <= 44.5\\ngini = 0.196\\nsamples = 91\\nvalue = [81, 10]'),\n",
       " Text(223.20000000000002, 117.77999999999999, 'gini = 0.224\\nsamples = 39\\nvalue = [34, 5]'),\n",
       " Text(230.89655172413794, 117.77999999999999, 'gini = 0.174\\nsamples = 52\\nvalue = [47, 5]'),\n",
       " Text(253.98620689655172, 135.89999999999998, 'X[0] <= 55.5\\ngini = 0.242\\nsamples = 880\\nvalue = [756, 124]'),\n",
       " Text(238.59310344827588, 117.77999999999999, 'X[0] <= 52.5\\ngini = 0.254\\nsamples = 542\\nvalue = [461, 81]'),\n",
       " Text(230.89655172413794, 99.66, 'X[0] <= 51.5\\ngini = 0.239\\nsamples = 389\\nvalue = [335, 54]'),\n",
       " Text(227.04827586206898, 81.53999999999999, 'X[0] <= 49.5\\ngini = 0.252\\nsamples = 324\\nvalue = [276, 48]'),\n",
       " Text(219.35172413793103, 63.41999999999999, 'X[0] <= 46.5\\ngini = 0.261\\nsamples = 214\\nvalue = [181, 33]'),\n",
       " Text(215.50344827586207, 45.29999999999998, 'gini = 0.231\\nsamples = 60\\nvalue = [52, 8]'),\n",
       " Text(223.20000000000002, 45.29999999999998, 'X[0] <= 47.5\\ngini = 0.272\\nsamples = 154\\nvalue = [129, 25]'),\n",
       " Text(219.35172413793103, 27.17999999999998, 'gini = 0.306\\nsamples = 53\\nvalue = [43, 10]'),\n",
       " Text(227.04827586206898, 27.17999999999998, 'X[0] <= 48.5\\ngini = 0.253\\nsamples = 101\\nvalue = [86, 15]'),\n",
       " Text(223.20000000000002, 9.059999999999974, 'gini = 0.223\\nsamples = 47\\nvalue = [41, 6]'),\n",
       " Text(230.89655172413794, 9.059999999999974, 'gini = 0.278\\nsamples = 54\\nvalue = [45, 9]'),\n",
       " Text(234.7448275862069, 63.41999999999999, 'X[0] <= 50.5\\ngini = 0.236\\nsamples = 110\\nvalue = [95, 15]'),\n",
       " Text(230.89655172413794, 45.29999999999998, 'gini = 0.245\\nsamples = 56\\nvalue = [48, 8]'),\n",
       " Text(238.59310344827588, 45.29999999999998, 'gini = 0.226\\nsamples = 54\\nvalue = [47, 7]'),\n",
       " Text(234.7448275862069, 81.53999999999999, 'gini = 0.168\\nsamples = 65\\nvalue = [59, 6]'),\n",
       " Text(246.2896551724138, 99.66, 'X[0] <= 53.5\\ngini = 0.291\\nsamples = 153\\nvalue = [126, 27]'),\n",
       " Text(242.44137931034484, 81.53999999999999, 'gini = 0.278\\nsamples = 54\\nvalue = [45, 9]'),\n",
       " Text(250.13793103448276, 81.53999999999999, 'X[0] <= 54.5\\ngini = 0.298\\nsamples = 99\\nvalue = [81, 18]'),\n",
       " Text(246.2896551724138, 63.41999999999999, 'gini = 0.315\\nsamples = 51\\nvalue = [41, 10]'),\n",
       " Text(253.98620689655172, 63.41999999999999, 'gini = 0.278\\nsamples = 48\\nvalue = [40, 8]'),\n",
       " Text(269.3793103448276, 117.77999999999999, 'X[0] <= 59.5\\ngini = 0.222\\nsamples = 338\\nvalue = [295, 43]'),\n",
       " Text(261.68275862068964, 99.66, 'X[0] <= 56.5\\ngini = 0.232\\nsamples = 217\\nvalue = [188, 29]'),\n",
       " Text(257.8344827586207, 81.53999999999999, 'gini = 0.216\\nsamples = 65\\nvalue = [57, 8]'),\n",
       " Text(265.5310344827586, 81.53999999999999, 'X[0] <= 58.5\\ngini = 0.238\\nsamples = 152\\nvalue = [131, 21]'),\n",
       " Text(261.68275862068964, 63.41999999999999, 'X[0] <= 57.5\\ngini = 0.233\\nsamples = 104\\nvalue = [90, 14]'),\n",
       " Text(257.8344827586207, 45.29999999999998, 'gini = 0.237\\nsamples = 51\\nvalue = [44, 7]'),\n",
       " Text(265.5310344827586, 45.29999999999998, 'gini = 0.229\\nsamples = 53\\nvalue = [46, 7]'),\n",
       " Text(269.3793103448276, 63.41999999999999, 'gini = 0.249\\nsamples = 48\\nvalue = [41, 7]'),\n",
       " Text(277.07586206896553, 99.66, 'X[0] <= 60.5\\ngini = 0.205\\nsamples = 121\\nvalue = [107, 14]'),\n",
       " Text(273.22758620689655, 81.53999999999999, 'gini = 0.172\\nsamples = 63\\nvalue = [57, 6]'),\n",
       " Text(280.92413793103447, 81.53999999999999, 'gini = 0.238\\nsamples = 58\\nvalue = [50, 8]'),\n",
       " Text(314.59655172413795, 154.01999999999998, 'X[0] <= 70.5\\ngini = 0.114\\nsamples = 1073\\nvalue = [1008, 65]'),\n",
       " Text(302.0896551724138, 135.89999999999998, 'X[0] <= 64.5\\ngini = 0.153\\nsamples = 647\\nvalue = [593, 54]'),\n",
       " Text(288.62068965517244, 117.77999999999999, 'X[0] <= 62.5\\ngini = 0.104\\nsamples = 181\\nvalue = [171, 10]'),\n",
       " Text(284.77241379310345, 99.66, 'gini = 0.137\\nsamples = 54\\nvalue = [50, 4]'),\n",
       " Text(292.4689655172414, 99.66, 'X[0] <= 63.5\\ngini = 0.09\\nsamples = 127\\nvalue = [121, 6]'),\n",
       " Text(288.62068965517244, 81.53999999999999, 'gini = 0.098\\nsamples = 58\\nvalue = [55, 3]'),\n",
       " Text(296.31724137931036, 81.53999999999999, 'gini = 0.083\\nsamples = 69\\nvalue = [66, 3]'),\n",
       " Text(315.5586206896552, 117.77999999999999, 'X[0] <= 68.5\\ngini = 0.171\\nsamples = 466\\nvalue = [422, 44]'),\n",
       " Text(307.86206896551727, 99.66, 'X[0] <= 65.5\\ngini = 0.196\\nsamples = 300\\nvalue = [267, 33]'),\n",
       " Text(304.0137931034483, 81.53999999999999, 'gini = 0.146\\nsamples = 63\\nvalue = [58, 5]'),\n",
       " Text(311.7103448275862, 81.53999999999999, 'X[0] <= 66.5\\ngini = 0.208\\nsamples = 237\\nvalue = [209, 28]'),\n",
       " Text(307.86206896551727, 63.41999999999999, 'gini = 0.266\\nsamples = 76\\nvalue = [64, 12]'),\n",
       " Text(315.5586206896552, 63.41999999999999, 'X[0] <= 67.5\\ngini = 0.179\\nsamples = 161\\nvalue = [145, 16]'),\n",
       " Text(311.7103448275862, 45.29999999999998, 'gini = 0.158\\nsamples = 81\\nvalue = [74, 7]'),\n",
       " Text(319.4068965517242, 45.29999999999998, 'gini = 0.2\\nsamples = 80\\nvalue = [71, 9]'),\n",
       " Text(323.2551724137931, 99.66, 'X[0] <= 69.5\\ngini = 0.124\\nsamples = 166\\nvalue = [155, 11]'),\n",
       " Text(319.4068965517242, 81.53999999999999, 'gini = 0.128\\nsamples = 73\\nvalue = [68, 5]'),\n",
       " Text(327.1034482758621, 81.53999999999999, 'gini = 0.121\\nsamples = 93\\nvalue = [87, 6]'),\n",
       " Text(327.1034482758621, 135.89999999999998, 'X[0] <= 71.5\\ngini = 0.05\\nsamples = 426\\nvalue = [415, 11]'),\n",
       " Text(323.2551724137931, 117.77999999999999, 'gini = 0.081\\nsamples = 141\\nvalue = [135, 6]'),\n",
       " Text(330.951724137931, 117.77999999999999, 'gini = 0.034\\nsamples = 285\\nvalue = [280, 5]')]"
      ]
     },
     "execution_count": 43,
     "metadata": {},
     "output_type": "execute_result"
    },
    {
     "data": {
      "image/png": "[encoded data removed]",
      "text/plain": [
       "<Figure size 432x288 with 1 Axes>"
      ]
     },
     "metadata": {
      "needs_background": "light"
     },
     "output_type": "display_data"
    }
   ],
   "source": [
    "tree.plot_tree(classifier)"
   ]
  },
  {
   "cell_type": "code",
   "execution_count": null,
   "id": "a8f51c03",
   "metadata": {},
   "outputs": [],
   "source": []
  },
  {
   "cell_type": "code",
   "execution_count": null,
   "id": "5c99aa17",
   "metadata": {},
   "outputs": [],
   "source": []
  },
  {
   "cell_type": "code",
   "execution_count": null,
   "id": "62a19cfc",
   "metadata": {},
   "outputs": [],
   "source": []
  },
  {
   "cell_type": "code",
   "execution_count": null,
   "id": "ca32b980",
   "metadata": {},
   "outputs": [],
   "source": []
  },
  {
   "cell_type": "code",
   "execution_count": null,
   "id": "9ba8d30c",
   "metadata": {},
   "outputs": [],
   "source": []
  },
  {
   "cell_type": "code",
   "execution_count": null,
   "id": "e2be9319",
   "metadata": {},
   "outputs": [],
   "source": []
  },
  {
   "cell_type": "code",
   "execution_count": null,
   "id": "6b418d30",
   "metadata": {},
   "outputs": [],
   "source": []
  },
  {
   "cell_type": "code",
   "execution_count": null,
   "id": "4773c391",
   "metadata": {},
   "outputs": [],
   "source": []
  },
  {
   "cell_type": "code",
   "execution_count": null,
   "id": "47b3e108",
   "metadata": {},
   "outputs": [],
   "source": []
  },
  {
   "cell_type": "code",
   "execution_count": null,
   "id": "e11ffdb7",
   "metadata": {},
   "outputs": [],
   "source": []
  }
 ],
 "metadata": {
  "kernelspec": {
   "display_name": "Python 3",
   "language": "python",
   "name": "python3"
  },
  "language_info": {
   "codemirror_mode": {
    "name": "ipython",
    "version": 3
   },
   "file_extension": ".py",
   "mimetype": "text/x-python",
   "name": "python",
   "nbconvert_exporter": "python",
   "pygments_lexer": "ipython3",
   "version": "3.8.8"
  }
 },
 "nbformat": 4,
 "nbformat_minor": 5
}
