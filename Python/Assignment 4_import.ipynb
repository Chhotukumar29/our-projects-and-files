{
 "cells": [
  {
   "cell_type": "markdown",
   "id": "8be8f389",
   "metadata": {},
   "source": [
    "# module 2 : Import assignment "
   ]
  },
  {
   "cell_type": "raw",
   "id": "7a4a6d9b",
   "metadata": {},
   "source": [
    "1. Create a python file named Module.\n",
    "    a. Inside the file, define 4 methods named – addition, subtraction, multiplication, and\n",
    "    division.\n",
    "    b. Each method should only accept 2 arguments and should return the result of operation\n",
    "    performed in each method. For e.g., addition() should return the sum of two arguments.\n",
    "    c. Save the Module file in .py format.\n",
    "    2. Open a new python file and import the Module.py file.\n",
    "    a. Now call the 4 methods from the Module.py file, i.e., addition(), subtraction(),\n",
    "    multiplication(), and division().\n",
    "    3. From the Module file, import only the addition() and pass the arguments so that it can\n",
    "    display the result from the method.\n",
    "    4. From the Module file, import only the subtraction() and pass the arguments so that it can\n",
    "    display the result from the method.\n",
    "    5. From the Module file, import both the multiplication() and division() and pass the arguments\n",
    "    so that it can display the result from the methods."
   ]
  },
  {
   "cell_type": "code",
   "execution_count": 8,
   "id": "db8ceb96",
   "metadata": {},
   "outputs": [
    {
     "ename": "ModuleNotFoundError",
     "evalue": "No module named 'Module'",
     "output_type": "error",
     "traceback": [
      "\u001b[1;31m---------------------------------------------------------------------------\u001b[0m",
      "\u001b[1;31mModuleNotFoundError\u001b[0m                       Traceback (most recent call last)",
      "\u001b[1;32m<ipython-input-8-0b1fb40c5496>\u001b[0m in \u001b[0;36m<module>\u001b[1;34m\u001b[0m\n\u001b[1;32m----> 1\u001b[1;33m \u001b[1;32mimport\u001b[0m \u001b[0mModule\u001b[0m\u001b[1;33m\u001b[0m\u001b[1;33m\u001b[0m\u001b[0m\n\u001b[0m",
      "\u001b[1;31mModuleNotFoundError\u001b[0m: No module named 'Module'"
     ]
    }
   ],
   "source": [
    "import Module "
   ]
  },
  {
   "cell_type": "code",
   "execution_count": 10,
   "id": "60a277fa",
   "metadata": {},
   "outputs": [
    {
     "ename": "ModuleNotFoundError",
     "evalue": "No module named 'Module'",
     "output_type": "error",
     "traceback": [
      "\u001b[1;31m---------------------------------------------------------------------------\u001b[0m",
      "\u001b[1;31mModuleNotFoundError\u001b[0m                       Traceback (most recent call last)",
      "\u001b[1;32m<ipython-input-10-4aeb959a1558>\u001b[0m in \u001b[0;36m<module>\u001b[1;34m\u001b[0m\n\u001b[1;32m----> 1\u001b[1;33m \u001b[1;32mfrom\u001b[0m \u001b[0mModule\u001b[0m \u001b[1;32mimport\u001b[0m \u001b[0maddition\u001b[0m\u001b[1;33m\u001b[0m\u001b[1;33m\u001b[0m\u001b[0m\n\u001b[0m",
      "\u001b[1;31mModuleNotFoundError\u001b[0m: No module named 'Module'"
     ]
    }
   ],
   "source": [
    "from Module import addition"
   ]
  },
  {
   "cell_type": "code",
   "execution_count": 4,
   "id": "fe8f7b86",
   "metadata": {},
   "outputs": [
    {
     "ename": "NameError",
     "evalue": "name 'addition' is not defined",
     "output_type": "error",
     "traceback": [
      "\u001b[1;31m---------------------------------------------------------------------------\u001b[0m",
      "\u001b[1;31mNameError\u001b[0m                                 Traceback (most recent call last)",
      "\u001b[1;32m<ipython-input-4-f8922d61b773>\u001b[0m in \u001b[0;36m<module>\u001b[1;34m\u001b[0m\n\u001b[1;32m----> 1\u001b[1;33m \u001b[0maddition\u001b[0m\u001b[1;33m(\u001b[0m\u001b[1;36m5\u001b[0m\u001b[1;33m,\u001b[0m\u001b[1;36m2\u001b[0m\u001b[1;33m)\u001b[0m\u001b[1;33m\u001b[0m\u001b[1;33m\u001b[0m\u001b[0m\n\u001b[0m",
      "\u001b[1;31mNameError\u001b[0m: name 'addition' is not defined"
     ]
    }
   ],
   "source": [
    "addition(5,2)"
   ]
  },
  {
   "cell_type": "code",
   "execution_count": null,
   "id": "f416d371",
   "metadata": {},
   "outputs": [],
   "source": []
  }
 ],
 "metadata": {
  "kernelspec": {
   "display_name": "Python 3",
   "language": "python",
   "name": "python3"
  },
  "language_info": {
   "codemirror_mode": {
    "name": "ipython",
    "version": 3
   },
   "file_extension": ".py",
   "mimetype": "text/x-python",
   "name": "python",
   "nbconvert_exporter": "python",
   "pygments_lexer": "ipython3",
   "version": "3.8.8"
  }
 },
 "nbformat": 4,
 "nbformat_minor": 5
}
