{
 "cells": [
  {
   "cell_type": "markdown",
   "id": "472f0e98",
   "metadata": {},
   "source": [
    "# Step 4: Import numpy by typing the following code in the notebook and run it by pressing shift + enter"
   ]
  },
  {
   "cell_type": "code",
   "execution_count": 1,
   "id": "a9f665e8",
   "metadata": {},
   "outputs": [],
   "source": [
    "import numpy as np"
   ]
  },
  {
   "cell_type": "markdown",
   "id": "b5c56592",
   "metadata": {},
   "source": [
    "# Step 5: Create np array of zeroes of size (2, 3) run the following code."
   ]
  },
  {
   "cell_type": "code",
   "execution_count": 2,
   "id": "409b4af2",
   "metadata": {},
   "outputs": [],
   "source": [
    "ar = np.zeros((2,3))"
   ]
  },
  {
   "cell_type": "code",
   "execution_count": 3,
   "id": "163735e9",
   "metadata": {},
   "outputs": [
    {
     "data": {
      "text/plain": [
       "array([[0., 0., 0.],\n",
       "       [0., 0., 0.]])"
      ]
     },
     "execution_count": 3,
     "metadata": {},
     "output_type": "execute_result"
    }
   ],
   "source": [
    "ar"
   ]
  },
  {
   "cell_type": "markdown",
   "id": "441c1bb3",
   "metadata": {},
   "source": [
    "# Step 6: Flatten 2D np Array to 1d np array."
   ]
  },
  {
   "cell_type": "code",
   "execution_count": 6,
   "id": "2fdbaec2",
   "metadata": {},
   "outputs": [
    {
     "data": {
      "text/plain": [
       "array([1, 2, 3, 4, 5, 6])"
      ]
     },
     "execution_count": 6,
     "metadata": {},
     "output_type": "execute_result"
    }
   ],
   "source": [
    "ar = np.array([[1,2,3],[4,5,6]])\n",
    "ar.ravel()"
   ]
  },
  {
   "cell_type": "markdown",
   "id": "2dbe0882",
   "metadata": {},
   "source": [
    "# Step 7: Convert 1D np Array to 2d np array from a python list."
   ]
  },
  {
   "cell_type": "code",
   "execution_count": 7,
   "id": "557a69f1",
   "metadata": {},
   "outputs": [],
   "source": [
    "ar = np.array([1,2,3,4,5,6]).reshape(2,3)"
   ]
  },
  {
   "cell_type": "code",
   "execution_count": 8,
   "id": "3e5eb7ff",
   "metadata": {},
   "outputs": [
    {
     "data": {
      "text/plain": [
       "array([[1, 2, 3],\n",
       "       [4, 5, 6]])"
      ]
     },
     "execution_count": 8,
     "metadata": {},
     "output_type": "execute_result"
    }
   ],
   "source": [
    "ar"
   ]
  },
  {
   "cell_type": "markdown",
   "id": "0db0a8cf",
   "metadata": {},
   "source": [
    "# Step 8: Create np array and sort."
   ]
  },
  {
   "cell_type": "code",
   "execution_count": 16,
   "id": "79b2547a",
   "metadata": {},
   "outputs": [],
   "source": [
    "ar = np.array([1,4,5,62,3,2])\n",
    "ar.sort()"
   ]
  },
  {
   "cell_type": "code",
   "execution_count": 17,
   "id": "3fa8c4c7",
   "metadata": {},
   "outputs": [
    {
     "data": {
      "text/plain": [
       "array([ 1,  2,  3,  4,  5, 62])"
      ]
     },
     "execution_count": 17,
     "metadata": {},
     "output_type": "execute_result"
    }
   ],
   "source": [
    "ar"
   ]
  },
  {
   "cell_type": "markdown",
   "id": "9ee760ab",
   "metadata": {},
   "source": [
    "# Step 9: Slice an np array to create another array without the first two elements of the original array"
   ]
  },
  {
   "cell_type": "code",
   "execution_count": 19,
   "id": "8ba49630",
   "metadata": {},
   "outputs": [
    {
     "data": {
      "text/plain": [
       "array([ 3,  4,  5, 62])"
      ]
     },
     "execution_count": 19,
     "metadata": {},
     "output_type": "execute_result"
    }
   ],
   "source": [
    "ar[2:]"
   ]
  },
  {
   "cell_type": "code",
   "execution_count": null,
   "id": "996070f0",
   "metadata": {},
   "outputs": [],
   "source": []
  }
 ],
 "metadata": {
  "kernelspec": {
   "display_name": "Python 3",
   "language": "python",
   "name": "python3"
  },
  "language_info": {
   "codemirror_mode": {
    "name": "ipython",
    "version": 3
   },
   "file_extension": ".py",
   "mimetype": "text/x-python",
   "name": "python",
   "nbconvert_exporter": "python",
   "pygments_lexer": "ipython3",
   "version": "3.8.8"
  }
 },
 "nbformat": 4,
 "nbformat_minor": 5
}
