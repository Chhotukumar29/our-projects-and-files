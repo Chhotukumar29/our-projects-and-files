{
 "cells": [
  {
   "cell_type": "markdown",
   "id": "a211391a",
   "metadata": {},
   "source": [
    "# Loop 1st Assignment"
   ]
  },
  {
   "cell_type": "code",
   "execution_count": 1,
   "id": "b0481b82",
   "metadata": {},
   "outputs": [
    {
     "name": "stdout",
     "output_type": "stream",
     "text": [
      "1\n",
      "2\n",
      "3\n",
      "4\n",
      "5\n",
      "6\n",
      "7\n",
      "8\n",
      "9\n",
      "10\n"
     ]
    }
   ],
   "source": [
    "a = 1\n",
    "while a<11:\n",
    "    print(a)\n",
    "    a = a+1 "
   ]
  },
  {
   "cell_type": "code",
   "execution_count": 2,
   "id": "29fbc776",
   "metadata": {},
   "outputs": [
    {
     "name": "stdout",
     "output_type": "stream",
     "text": [
      "1\n",
      "2\n",
      "3\n",
      "4\n",
      "5\n",
      "6\n",
      "7\n",
      "8\n",
      "9\n",
      "10\n"
     ]
    }
   ],
   "source": [
    "for i in range(1,11,1):\n",
    "    print(i)"
   ]
  },
  {
   "cell_type": "markdown",
   "id": "75102eaa",
   "metadata": {},
   "source": [
    "# Loop 2nd Assignment"
   ]
  },
  {
   "cell_type": "code",
   "execution_count": 3,
   "id": "bbecbde3",
   "metadata": {},
   "outputs": [
    {
     "name": "stdout",
     "output_type": "stream",
     "text": [
      "10 4 26 4 24 54 "
     ]
    }
   ],
   "source": [
    "lis = [10,23,4,26,4,75,24,54]\n",
    "for e in lis:\n",
    "    if e%2 == 0:\n",
    "        print(e ,end=\" \")"
   ]
  },
  {
   "cell_type": "code",
   "execution_count": 1,
   "id": "8e04cc10",
   "metadata": {},
   "outputs": [
    {
     "ename": "TypeError",
     "evalue": "unsupported operand type(s) for %: 'list' and 'int'",
     "output_type": "error",
     "traceback": [
      "\u001b[1;31m---------------------------------------------------------------------------\u001b[0m",
      "\u001b[1;31mTypeError\u001b[0m                                 Traceback (most recent call last)",
      "\u001b[1;32m<ipython-input-1-c9f831721664>\u001b[0m in \u001b[0;36m<module>\u001b[1;34m\u001b[0m\n\u001b[0;32m      3\u001b[0m \u001b[1;33m\u001b[0m\u001b[0m\n\u001b[0;32m      4\u001b[0m \u001b[1;32mwhile\u001b[0m\u001b[1;33m(\u001b[0m\u001b[0mnum\u001b[0m \u001b[1;33m<\u001b[0m \u001b[0mlen\u001b[0m\u001b[1;33m(\u001b[0m\u001b[0mlist1\u001b[0m\u001b[1;33m)\u001b[0m\u001b[1;33m)\u001b[0m\u001b[1;33m:\u001b[0m\u001b[1;33m\u001b[0m\u001b[1;33m\u001b[0m\u001b[0m\n\u001b[1;32m----> 5\u001b[1;33m     \u001b[1;32mif\u001b[0m \u001b[0mlist1\u001b[0m \u001b[1;33m%\u001b[0m \u001b[1;36m2\u001b[0m \u001b[1;33m==\u001b[0m \u001b[1;36m0\u001b[0m\u001b[1;33m:\u001b[0m\u001b[1;33m\u001b[0m\u001b[1;33m\u001b[0m\u001b[0m\n\u001b[0m\u001b[0;32m      6\u001b[0m         \u001b[0mprint\u001b[0m\u001b[1;33m(\u001b[0m\u001b[0mlist1\u001b[0m\u001b[1;33m,\u001b[0m \u001b[0mend\u001b[0m\u001b[1;33m=\u001b[0m\u001b[1;34m\" \"\u001b[0m\u001b[1;33m)\u001b[0m\u001b[1;33m\u001b[0m\u001b[1;33m\u001b[0m\u001b[0m\n\u001b[0;32m      7\u001b[0m         \u001b[0mnum\u001b[0m \u001b[1;33m+=\u001b[0m \u001b[1;36m1\u001b[0m\u001b[1;33m\u001b[0m\u001b[1;33m\u001b[0m\u001b[0m\n",
      "\u001b[1;31mTypeError\u001b[0m: unsupported operand type(s) for %: 'list' and 'int'"
     ]
    }
   ],
   "source": [
    "list1 = [10,23,4,26,4,75,24,54]\n",
    "num = 0\n",
    "\n",
    "while(num < len(list1)):\n",
    "    if list1 % 2 == 0:\n",
    "        print(list1, end=\" \")\n",
    "        num += 1"
   ]
  },
  {
   "cell_type": "code",
   "execution_count": null,
   "id": "9ab8b7e5",
   "metadata": {},
   "outputs": [],
   "source": [
    "# Create an array that is having user defined inputs and with the help of for loop, fetch all the prime\n",
    "# numbers and print the numbers"
   ]
  },
  {
   "cell_type": "code",
   "execution_count": 15,
   "id": "11ea2b9e",
   "metadata": {},
   "outputs": [
    {
     "name": "stdout",
     "output_type": "stream",
     "text": [
      "Prime numbers between 900 and 1000 are: \n",
      "907\n",
      "911\n",
      "919\n",
      "929\n",
      "937\n",
      "941\n",
      "947\n",
      "953\n",
      "967\n",
      "971\n",
      "977\n",
      "983\n",
      "991\n",
      "997\n"
     ]
    }
   ],
   "source": [
    "lower1  = 900\n",
    "upper1 = 1000\n",
    "print(\"Prime numbers between\", lower1, \"and\", upper1, \"are: \")\n",
    "for num in range(lower1,upper1 +1):\n",
    "    if num>1:\n",
    "        for i in range(2, num):\n",
    "            if num % i ==0:\n",
    "                break\n",
    "        else:\n",
    "             print(num)"
   ]
  },
  {
   "cell_type": "code",
   "execution_count": null,
   "id": "bf2b3ab2",
   "metadata": {},
   "outputs": [],
   "source": []
  }
 ],
 "metadata": {
  "kernelspec": {
   "display_name": "Python 3",
   "language": "python",
   "name": "python3"
  },
  "language_info": {
   "codemirror_mode": {
    "name": "ipython",
    "version": 3
   },
   "file_extension": ".py",
   "mimetype": "text/x-python",
   "name": "python",
   "nbconvert_exporter": "python",
   "pygments_lexer": "ipython3",
   "version": "3.8.8"
  }
 },
 "nbformat": 4,
 "nbformat_minor": 5
}
