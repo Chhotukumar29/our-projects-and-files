{
 "cells": [
  {
   "cell_type": "markdown",
   "id": "ae7c5372",
   "metadata": {},
   "source": [
    "# Case Study Problem 1 - Concept Of OOPS"
   ]
  },
  {
   "cell_type": "markdown",
   "id": "1814a92b",
   "metadata": {},
   "source": [
    "# Module 1: OOPs with Python Assignment-1"
   ]
  },
  {
   "cell_type": "raw",
   "id": "ed1e2f31",
   "metadata": {},
   "source": [
    "#1. Create a class names Employee, with a constructor ‘__init__’ method that accepts name and\n",
    "#  salary as parameters and set properties named name and salary."
   ]
  },
  {
   "cell_type": "code",
   "execution_count": 2,
   "id": "0e65b2fc",
   "metadata": {},
   "outputs": [],
   "source": [
    "class Employee:\n",
    "    def __init__(self, name, salary):\n",
    "        self.name = name\n",
    "        self.salary = salary"
   ]
  },
  {
   "cell_type": "raw",
   "id": "49ee3716",
   "metadata": {},
   "source": [
    "#2. Define __str__ method in Employee class so that when someone tries to print the object the string Name:\n",
    "#  employee_name, Salary: employee_salary is printed with the actual employee name and salary."
   ]
  },
  {
   "cell_type": "code",
   "execution_count": 8,
   "id": "803435f5",
   "metadata": {},
   "outputs": [
    {
     "name": "stdout",
     "output_type": "stream",
     "text": [
      "The Employee name is:  Chhotu\n",
      "The Salary is:  500000\n"
     ]
    }
   ],
   "source": [
    "class Employee:\n",
    "    def __init__(self, name, salary):\n",
    "        self.name = name\n",
    "        self.salary = salary\n",
    "    def __str__(self):\n",
    "        print(\"The Employee name is: \", self.name)\n",
    "        print(\"The Salary is: \", self.salary)\n",
    "        \n",
    "e1= Employee('Chhotu', 500000)\n",
    "e1.__str__()"
   ]
  },
  {
   "cell_type": "raw",
   "id": "67922ec6",
   "metadata": {},
   "source": [
    "#3. Create another class named Calculator, with methods to add, subtract, multiply and divide two numbers\n",
    "#4. These methods take two numbers as parameters"
   ]
  },
  {
   "cell_type": "code",
   "execution_count": 11,
   "id": "52a5c76b",
   "metadata": {},
   "outputs": [],
   "source": [
    "class Calculator:\n",
    "    def __init__(self):\n",
    "        self.x = x \n",
    "        self.y = y \n",
    "    def add(self,x,y):\n",
    "        a = x+y\n",
    "        print(a)\n",
    "    def subtraction(self,x,y):\n",
    "        b = x-y\n",
    "        print(b)\n",
    "    def muttiply(self,x,y):\n",
    "        c = x*y\n",
    "        print(c)\n",
    "    def divide(self,x,y):\n",
    "        d = x/y\n",
    "        print(d)"
   ]
  },
  {
   "cell_type": "raw",
   "id": "310c4a48",
   "metadata": {},
   "source": [
    "#5. These methods will be called by method named execute command.\n",
    "#6. Execute command takes in 3 parameters command which is string that can be either ‘add’, ‘sub’, ‘mul’, ‘div’,\n",
    "#  and two numbers and it will call the appropriate method based on command parameter."
   ]
  },
  {
   "cell_type": "code",
   "execution_count": 18,
   "id": "fffd4e7c",
   "metadata": {},
   "outputs": [
    {
     "name": "stdout",
     "output_type": "stream",
     "text": [
      "20\n"
     ]
    }
   ],
   "source": [
    "class Calculator:\n",
    "    def __init__(self, x, y):\n",
    "        self.x = x \n",
    "        self.y = y \n",
    "    def add(self,x,y):\n",
    "        a = x+y\n",
    "        print(a)\n",
    "    def subtraction(self,x,y):\n",
    "        b = x-y\n",
    "        print(b)\n",
    "    def multiply(self,x,y):\n",
    "        c = x*y\n",
    "        print(c)\n",
    "    def divide(self,x,y):\n",
    "        d = x//y\n",
    "        print(d)\n",
    "    def execute(self, x, y, z):\n",
    "        if z == 'add': self.add(x,y)\n",
    "        elif z == 'subtraction': self.subtraction(x,y)\n",
    "        elif z == 'multiply' : self.multiply(x,y)\n",
    "        elif z == \"divide\" : self.divide(x,y)\n",
    "            \n",
    "i = Calculator(10,10)\n",
    "i.execute(10,10, 'add')        "
   ]
  },
  {
   "cell_type": "code",
   "execution_count": 20,
   "id": "da485324",
   "metadata": {},
   "outputs": [
    {
     "name": "stdout",
     "output_type": "stream",
     "text": [
      "5\n"
     ]
    }
   ],
   "source": [
    "class Calculator:\n",
    "    def __init__(self, x, y):\n",
    "        self.x = x \n",
    "        self.y = y \n",
    "    def add(self,x,y):\n",
    "        a = x+y\n",
    "        print(a)\n",
    "    def subtraction(self,x,y):\n",
    "        b = x-y\n",
    "        print(b)\n",
    "    def multiply(self,x,y):\n",
    "        c = x*y\n",
    "        print(c)\n",
    "    def divide(self,x,y):\n",
    "        d = x//y\n",
    "        print(d)\n",
    "    def execute(self, x, y, z):\n",
    "        if z == 'add': self.add(x,y)\n",
    "        elif z == 'subtraction': self.subtraction(x,y)\n",
    "        elif z == 'multiply' : self.multiply(x,y)\n",
    "        elif z == \"divide\" : self.divide(x,y)\n",
    "            \n",
    "i = Calculator(20,15)\n",
    "i.execute(20,15, 'subtraction')  "
   ]
  },
  {
   "cell_type": "code",
   "execution_count": 21,
   "id": "14540672",
   "metadata": {},
   "outputs": [
    {
     "name": "stdout",
     "output_type": "stream",
     "text": [
      "70\n"
     ]
    }
   ],
   "source": [
    "class Calculator:\n",
    "    def __init__(self, x, y):\n",
    "        self.x = x \n",
    "        self.y = y \n",
    "    def add(self,x,y):\n",
    "        a = x+y\n",
    "        print(a)\n",
    "    def subtraction(self,x,y):\n",
    "        b = x-y\n",
    "        print(b)\n",
    "    def multiply(self,x,y):\n",
    "        c = x*y\n",
    "        print(c)\n",
    "    def divide(self,x,y):\n",
    "        d = x//y\n",
    "        print(d)\n",
    "    def execute(self, x, y, z):\n",
    "        if z == 'add': self.add(x,y)\n",
    "        elif z == 'subtraction': self.subtraction(x,y)\n",
    "        elif z == 'multiply' : self.multiply(x,y)\n",
    "        elif z == \"divide\" : self.divide(x,y)\n",
    "            \n",
    "i = Calculator(10,7)\n",
    "i.execute(10,7, 'multiply')  "
   ]
  },
  {
   "cell_type": "code",
   "execution_count": 22,
   "id": "7c6fb059",
   "metadata": {},
   "outputs": [
    {
     "name": "stdout",
     "output_type": "stream",
     "text": [
      "9\n"
     ]
    }
   ],
   "source": [
    "class Calculator:\n",
    "    def __init__(self, x, y):\n",
    "        self.x = x \n",
    "        self.y = y \n",
    "    def add(self,x,y):\n",
    "        a = x+y\n",
    "        print(a)\n",
    "    def subtraction(self,x,y):\n",
    "        b = x-y\n",
    "        print(b)\n",
    "    def multiply(self,x,y):\n",
    "        c = x*y\n",
    "        print(c)\n",
    "    def divide(self,x,y):\n",
    "        d = x//y\n",
    "        print(d)\n",
    "    def execute(self, x, y, z):\n",
    "        if z == 'add': self.add(x,y)\n",
    "        elif z == 'subtraction': self.subtraction(x,y)\n",
    "        elif z == 'multiply' : self.multiply(x,y)\n",
    "        elif z == \"divide\" : self.divide(x,y)\n",
    "            \n",
    "i = Calculator(90,10)\n",
    "i.execute(90,10, 'divide')  "
   ]
  },
  {
   "cell_type": "code",
   "execution_count": null,
   "id": "f61f0f89",
   "metadata": {},
   "outputs": [],
   "source": []
  }
 ],
 "metadata": {
  "kernelspec": {
   "display_name": "Python 3",
   "language": "python",
   "name": "python3"
  },
  "language_info": {
   "codemirror_mode": {
    "name": "ipython",
    "version": 3
   },
   "file_extension": ".py",
   "mimetype": "text/x-python",
   "name": "python",
   "nbconvert_exporter": "python",
   "pygments_lexer": "ipython3",
   "version": "3.8.8"
  }
 },
 "nbformat": 4,
 "nbformat_minor": 5
}
