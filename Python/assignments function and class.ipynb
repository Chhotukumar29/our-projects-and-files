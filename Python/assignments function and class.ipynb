{
 "cells": [
  {
   "cell_type": "raw",
   "id": "952d5468",
   "metadata": {},
   "source": [
    "#1. Create a function named ‘factor’ that can only accepts 1 argument. The function should return the factorial of that number."
   ]
  },
  {
   "cell_type": "code",
   "execution_count": 16,
   "id": "a5cd3072",
   "metadata": {},
   "outputs": [
    {
     "name": "stdout",
     "output_type": "stream",
     "text": [
      "Enter a value/number: 6\n",
      "The factotrial of 6 is 720\n"
     ]
    }
   ],
   "source": [
    "def factor(arg):\n",
    "    if arg< 0:\n",
    "        print(\"Factotrial does not work for -ve argbers\")\n",
    "    elif arg == 0:\n",
    "        print('The factorial of 0 is 1')\n",
    "    else:\n",
    "        fact = 1\n",
    "        for i in range(1,arg+1):\n",
    "            fact = fact*i\n",
    "        print(\"The factotrial of\", arg,'is',fact)\n",
    "\n",
    "factor(int(input(\"Enter a value/number: \")))   "
   ]
  },
  {
   "cell_type": "raw",
   "id": "e5b8bde4",
   "metadata": {},
   "source": [
    "#2. Create a function named ‘check_string’, the function should accept a string data from the\n",
    "#user and the function should check if the user input contains the letter ‘s’ in it. If it contains\n",
    "#the letter ‘s’ then print- ‘The string is containing the letter ‘s’’, if not then print- ‘The string\n",
    "#doesn’t contain the letter ‘s’’."
   ]
  },
  {
   "cell_type": "code",
   "execution_count": 25,
   "id": "48fecccd",
   "metadata": {},
   "outputs": [
    {
     "name": "stdout",
     "output_type": "stream",
     "text": [
      "Enter a value: Chhotu Kumar\n",
      "The string doesn't contain the letter 's'\n"
     ]
    }
   ],
   "source": [
    "def check_string(string):\n",
    "    string = str(input(\"Enter a value: \"))\n",
    "    if 's' in string:\n",
    "        print(\"The string is containing the letter 's'\")\n",
    "    else:\n",
    "        print(\"The string doesn't contain the letter 's'\")\n",
    "        \n",
    "check_string('a')"
   ]
  },
  {
   "cell_type": "raw",
   "id": "ceb23243",
   "metadata": {},
   "source": [
    "#3. Create a class named ‘student’ and inside the class, create a function named ‘fun1’-\n",
    "#this method should accepts the user defined input and return that value.\n",
    "#  a. Create another method named- message() and that method should print the user\n",
    "#  defined input that we have defined in ‘fun1’."
   ]
  },
  {
   "cell_type": "code",
   "execution_count": 31,
   "id": "1243edd0",
   "metadata": {},
   "outputs": [
    {
     "name": "stdout",
     "output_type": "stream",
     "text": [
      "Please input a value: viansh\n",
      "You have entered:  viansh\n"
     ]
    }
   ],
   "source": [
    "class student:\n",
    "    def __init__(self):\n",
    "        self.x = ''\n",
    "    def fun1(self):\n",
    "        self.x = input(\"Please input a value: \")\n",
    "    def message(self):\n",
    "        print('You have entered: ', self.x)\n",
    "x = student()\n",
    "x.fun1()\n",
    "x.message()"
   ]
  },
  {
   "cell_type": "raw",
   "id": "f37b8365",
   "metadata": {},
   "source": [
    "#4. Create a lambda function that should double or multiply the number (that we will be passing\n",
    "#in the lambda function) by 2. Store the lambda function in a variable named ‘double_num’."
   ]
  },
  {
   "cell_type": "code",
   "execution_count": 34,
   "id": "853ca694",
   "metadata": {},
   "outputs": [
    {
     "data": {
      "text/plain": [
       "2500"
      ]
     },
     "execution_count": 34,
     "metadata": {},
     "output_type": "execute_result"
    }
   ],
   "source": [
    "double_value = lambda x : x*x\n",
    "double_value(50)"
   ]
  },
  {
   "cell_type": "code",
   "execution_count": 35,
   "id": "c40a68e6",
   "metadata": {},
   "outputs": [
    {
     "data": {
      "text/plain": [
       "100"
      ]
     },
     "execution_count": 35,
     "metadata": {},
     "output_type": "execute_result"
    }
   ],
   "source": [
    "double_value = lambda x : x*2\n",
    "double_value(50)"
   ]
  },
  {
   "cell_type": "raw",
   "id": "3cbfd549",
   "metadata": {},
   "source": [
    "#5. Take user input string and check whether that string is palindrome or not."
   ]
  },
  {
   "cell_type": "code",
   "execution_count": 39,
   "id": "8f8a8f8a",
   "metadata": {},
   "outputs": [
    {
     "name": "stdout",
     "output_type": "stream",
     "text": [
      "enter a value: Malayam\n",
      "The a is not a palindrome\n"
     ]
    }
   ],
   "source": [
    "a = str(input(\"enter a value: \"))\n",
    "if a == a [::-1]:\n",
    "    print(\"The a is palindrome\")\n",
    "else:\n",
    "    print('The a is not a palindrome')"
   ]
  },
  {
   "cell_type": "code",
   "execution_count": null,
   "id": "8cdb80dd",
   "metadata": {},
   "outputs": [],
   "source": []
  }
 ],
 "metadata": {
  "kernelspec": {
   "display_name": "Python 3",
   "language": "python",
   "name": "python3"
  },
  "language_info": {
   "codemirror_mode": {
    "name": "ipython",
    "version": 3
   },
   "file_extension": ".py",
   "mimetype": "text/x-python",
   "name": "python",
   "nbconvert_exporter": "python",
   "pygments_lexer": "ipython3",
   "version": "3.8.8"
  }
 },
 "nbformat": 4,
 "nbformat_minor": 5
}
