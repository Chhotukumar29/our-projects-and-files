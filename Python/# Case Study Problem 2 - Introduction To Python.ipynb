{
 "cells": [
  {
   "cell_type": "code",
   "execution_count": null,
   "id": "f693c352",
   "metadata": {},
   "outputs": [],
   "source": []
  },
  {
   "cell_type": "raw",
   "id": "da5c3380",
   "metadata": {},
   "source": [
    "1.  Create 1st tuple with values -> (10,20,30), \n",
    "    2nd tuple with values -> (40,50,60). \n",
    "\n",
    " a.Concatenate the two tuples and store it in “t_combine”\n",
    " b.Repeat the elements of “t_combine” 3 times \n",
    " c.Access the 3rd element from “t_combine”\n",
    " d.Access the first three elements from “t_combine”\n",
    " e.Access the last three elements from “t_combine”.."
   ]
  },
  {
   "cell_type": "code",
   "execution_count": 1,
   "id": "fe5cc25e",
   "metadata": {},
   "outputs": [],
   "source": [
    "tup1 = (10,20,30)\n",
    "tup2 = (40,50,60)"
   ]
  },
  {
   "cell_type": "code",
   "execution_count": 2,
   "id": "d1463c81",
   "metadata": {},
   "outputs": [
    {
     "data": {
      "text/plain": [
       "(10, 20, 30, 40, 50, 60)"
      ]
     },
     "execution_count": 2,
     "metadata": {},
     "output_type": "execute_result"
    }
   ],
   "source": [
    "t_combine = tup1 + tup2\n",
    "t_combine"
   ]
  },
  {
   "cell_type": "code",
   "execution_count": 3,
   "id": "175acba3",
   "metadata": {},
   "outputs": [
    {
     "data": {
      "text/plain": [
       "(10, 20, 30, 40, 50, 60, 10, 20, 30, 40, 50, 60, 10, 20, 30, 40, 50, 60)"
      ]
     },
     "execution_count": 3,
     "metadata": {},
     "output_type": "execute_result"
    }
   ],
   "source": [
    "t_combine * 3"
   ]
  },
  {
   "cell_type": "code",
   "execution_count": 4,
   "id": "abe222e4",
   "metadata": {},
   "outputs": [
    {
     "data": {
      "text/plain": [
       "30"
      ]
     },
     "execution_count": 4,
     "metadata": {},
     "output_type": "execute_result"
    }
   ],
   "source": [
    "t_combine[2]"
   ]
  },
  {
   "cell_type": "code",
   "execution_count": 5,
   "id": "122ddae5",
   "metadata": {},
   "outputs": [
    {
     "data": {
      "text/plain": [
       "(10, 20, 30)"
      ]
     },
     "execution_count": 5,
     "metadata": {},
     "output_type": "execute_result"
    }
   ],
   "source": [
    "t_combine[0:3]"
   ]
  },
  {
   "cell_type": "code",
   "execution_count": 6,
   "id": "ea87ee07",
   "metadata": {},
   "outputs": [
    {
     "data": {
      "text/plain": [
       "(40, 50, 60)"
      ]
     },
     "execution_count": 6,
     "metadata": {},
     "output_type": "execute_result"
    }
   ],
   "source": [
    "t_combine[3:6]"
   ]
  },
  {
   "cell_type": "code",
   "execution_count": null,
   "id": "5428146b",
   "metadata": {},
   "outputs": [],
   "source": []
  },
  {
   "cell_type": "raw",
   "id": "2714c5c1",
   "metadata": {},
   "source": [
    "#2. Create a list ‘my_list’ with these elements:\n",
    "    #a. First element is a tuple with values 1,2,3\n",
    "    #b. Second element is a tuple with values “a”,”b”,”c”\n",
    "    #c. Third element is a tuple with values True,False.."
   ]
  },
  {
   "cell_type": "code",
   "execution_count": 7,
   "id": "49def397",
   "metadata": {},
   "outputs": [],
   "source": [
    "my_list = [(1,2,3),('a','b','c'),(True, False)]"
   ]
  },
  {
   "cell_type": "code",
   "execution_count": 8,
   "id": "a99ac5a9",
   "metadata": {},
   "outputs": [
    {
     "data": {
      "text/plain": [
       "[(1, 2, 3), ('a', 'b', 'c'), (True, False)]"
      ]
     },
     "execution_count": 8,
     "metadata": {},
     "output_type": "execute_result"
    }
   ],
   "source": [
    "my_list"
   ]
  },
  {
   "cell_type": "code",
   "execution_count": 9,
   "id": "3bbbfefa",
   "metadata": {},
   "outputs": [
    {
     "data": {
      "text/plain": [
       "list"
      ]
     },
     "execution_count": 9,
     "metadata": {},
     "output_type": "execute_result"
    }
   ],
   "source": [
    "type(my_list)"
   ]
  },
  {
   "cell_type": "code",
   "execution_count": 10,
   "id": "785df412",
   "metadata": {},
   "outputs": [
    {
     "data": {
      "text/plain": [
       "tuple"
      ]
     },
     "execution_count": 10,
     "metadata": {},
     "output_type": "execute_result"
    }
   ],
   "source": [
    "type(my_list[0])"
   ]
  },
  {
   "cell_type": "code",
   "execution_count": 11,
   "id": "8a32e596",
   "metadata": {},
   "outputs": [
    {
     "data": {
      "text/plain": [
       "tuple"
      ]
     },
     "execution_count": 11,
     "metadata": {},
     "output_type": "execute_result"
    }
   ],
   "source": [
    "type(my_list[1])"
   ]
  },
  {
   "cell_type": "code",
   "execution_count": 12,
   "id": "66b65797",
   "metadata": {},
   "outputs": [
    {
     "data": {
      "text/plain": [
       "tuple"
      ]
     },
     "execution_count": 12,
     "metadata": {},
     "output_type": "execute_result"
    }
   ],
   "source": [
    "type(my_list[2])"
   ]
  },
  {
   "cell_type": "code",
   "execution_count": null,
   "id": "9661d631",
   "metadata": {},
   "outputs": [],
   "source": []
  },
  {
   "cell_type": "raw",
   "id": "349eacb0",
   "metadata": {},
   "source": [
    "#3. Append a new tuple – (1,’a’,True) to ‘my_list’\n",
    "    #a. Append a new list – [“sparta”,123] to my_list"
   ]
  },
  {
   "cell_type": "code",
   "execution_count": 13,
   "id": "527bd1ee",
   "metadata": {},
   "outputs": [],
   "source": [
    "my_list.append((1,'a',True))"
   ]
  },
  {
   "cell_type": "code",
   "execution_count": 14,
   "id": "5400a3c3",
   "metadata": {},
   "outputs": [
    {
     "data": {
      "text/plain": [
       "[(1, 2, 3), ('a', 'b', 'c'), (True, False), (1, 'a', True)]"
      ]
     },
     "execution_count": 14,
     "metadata": {},
     "output_type": "execute_result"
    }
   ],
   "source": [
    "my_list"
   ]
  },
  {
   "cell_type": "code",
   "execution_count": 19,
   "id": "c867cb21",
   "metadata": {},
   "outputs": [
    {
     "data": {
      "text/plain": [
       "tuple"
      ]
     },
     "execution_count": 19,
     "metadata": {},
     "output_type": "execute_result"
    }
   ],
   "source": [
    "type(my_list[3])"
   ]
  },
  {
   "cell_type": "raw",
   "id": "2182c5dc",
   "metadata": {},
   "source": [
    "my_list.append(['sparta',123])"
   ]
  },
  {
   "cell_type": "code",
   "execution_count": 17,
   "id": "7fcc72e0",
   "metadata": {},
   "outputs": [
    {
     "data": {
      "text/plain": [
       "[(1, 2, 3), ('a', 'b', 'c'), (True, False), (1, 'a', True), ['sparta', 123]]"
      ]
     },
     "execution_count": 17,
     "metadata": {},
     "output_type": "execute_result"
    }
   ],
   "source": [
    "my_list"
   ]
  },
  {
   "cell_type": "code",
   "execution_count": 18,
   "id": "13be775b",
   "metadata": {},
   "outputs": [
    {
     "data": {
      "text/plain": [
       "list"
      ]
     },
     "execution_count": 18,
     "metadata": {},
     "output_type": "execute_result"
    }
   ],
   "source": [
    "type(my_list[4])"
   ]
  },
  {
   "cell_type": "code",
   "execution_count": null,
   "id": "c7ae1df3",
   "metadata": {},
   "outputs": [],
   "source": []
  },
  {
   "cell_type": "raw",
   "id": "cd6300f5",
   "metadata": {},
   "source": [
    "#4. Create a dictionary ‘fruit’ where:\n",
    " #a. The first key is ‘Fruit’ and the values are\n",
    "       (“Apple”,”Banana”,”Mango”,”Guava”)\n",
    "#b. The second key is ‘Cost’ and the values are   \n",
    "        (85,54,120,70)\n",
    "#c. Extract all the keys from ‘fruit’\n",
    "#d. Extract all the values from ‘fruit’..."
   ]
  },
  {
   "cell_type": "code",
   "execution_count": 28,
   "id": "b9060c58",
   "metadata": {},
   "outputs": [],
   "source": [
    "fruit ={'Fruit':['Apple','Banana','Mango','Guava'], 'Cost':[85,54,120,70]}"
   ]
  },
  {
   "cell_type": "code",
   "execution_count": 29,
   "id": "0b1a7511",
   "metadata": {},
   "outputs": [
    {
     "data": {
      "text/plain": [
       "{'Fruit': ['Apple', 'Banana', 'Mango', 'Guava'], 'Cost': [85, 54, 120, 70]}"
      ]
     },
     "execution_count": 29,
     "metadata": {},
     "output_type": "execute_result"
    }
   ],
   "source": [
    "fruit"
   ]
  },
  {
   "cell_type": "code",
   "execution_count": 30,
   "id": "fc92bb1c",
   "metadata": {},
   "outputs": [
    {
     "data": {
      "text/plain": [
       "dict_keys(['Fruit', 'Cost'])"
      ]
     },
     "execution_count": 30,
     "metadata": {},
     "output_type": "execute_result"
    }
   ],
   "source": [
    "fruit.keys()"
   ]
  },
  {
   "cell_type": "code",
   "execution_count": 31,
   "id": "5aeaab35",
   "metadata": {},
   "outputs": [
    {
     "data": {
      "text/plain": [
       "dict_values([['Apple', 'Banana', 'Mango', 'Guava'], [85, 54, 120, 70]])"
      ]
     },
     "execution_count": 31,
     "metadata": {},
     "output_type": "execute_result"
    }
   ],
   "source": [
    "fruit.values()"
   ]
  },
  {
   "cell_type": "code",
   "execution_count": null,
   "id": "619af279",
   "metadata": {},
   "outputs": [],
   "source": []
  },
  {
   "cell_type": "raw",
   "id": "8fdc6206",
   "metadata": {},
   "source": [
    "#5. Crete a set named ‘my_set’ with values (1,1,”a”,”a”,True,True) and print the result..."
   ]
  },
  {
   "cell_type": "code",
   "execution_count": 32,
   "id": "932a2877",
   "metadata": {},
   "outputs": [],
   "source": [
    "my_set = {1,1,'a','a',True,True}"
   ]
  },
  {
   "cell_type": "code",
   "execution_count": 33,
   "id": "14005c48",
   "metadata": {},
   "outputs": [
    {
     "name": "stdout",
     "output_type": "stream",
     "text": [
      "{'a', 1}\n"
     ]
    }
   ],
   "source": [
    "print(my_set)"
   ]
  },
  {
   "cell_type": "code",
   "execution_count": 34,
   "id": "5526cee4",
   "metadata": {},
   "outputs": [
    {
     "data": {
      "text/plain": [
       "{1, 'a'}"
      ]
     },
     "execution_count": 34,
     "metadata": {},
     "output_type": "execute_result"
    }
   ],
   "source": [
    "my_set"
   ]
  },
  {
   "cell_type": "code",
   "execution_count": 35,
   "id": "2a4614e7",
   "metadata": {},
   "outputs": [
    {
     "data": {
      "text/plain": [
       "set"
      ]
     },
     "execution_count": 35,
     "metadata": {},
     "output_type": "execute_result"
    }
   ],
   "source": [
    "type(my_set)"
   ]
  },
  {
   "cell_type": "code",
   "execution_count": null,
   "id": "4cedbd4a",
   "metadata": {},
   "outputs": [],
   "source": [
    "# duplicate value or same values do not repeat in set function."
   ]
  }
 ],
 "metadata": {
  "kernelspec": {
   "display_name": "Python 3",
   "language": "python",
   "name": "python3"
  },
  "language_info": {
   "codemirror_mode": {
    "name": "ipython",
    "version": 3
   },
   "file_extension": ".py",
   "mimetype": "text/x-python",
   "name": "python",
   "nbconvert_exporter": "python",
   "pygments_lexer": "ipython3",
   "version": "3.8.8"
  }
 },
 "nbformat": 4,
 "nbformat_minor": 5
}
