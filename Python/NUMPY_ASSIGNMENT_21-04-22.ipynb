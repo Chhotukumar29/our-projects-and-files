{
 "cells": [
  {
   "cell_type": "code",
   "execution_count": 16,
   "id": "c99ec44f",
   "metadata": {},
   "outputs": [
    {
     "name": "stdout",
     "output_type": "stream",
     "text": [
      "3\n",
      "3\n",
      "[[5 5 5]\n",
      " [5 5 5]\n",
      " [5 5 5]]\n"
     ]
    }
   ],
   "source": [
    "import numpy as np\n",
    "def tu():\n",
    "    y=[]\n",
    "    for i in range(2):\n",
    "        y.append(int(input()))\n",
    "    a=tuple(y)\n",
    "    b=np.full(a,5)\n",
    "    return b\n",
    "print(tu())"
   ]
  },
  {
   "cell_type": "code",
   "execution_count": 2,
   "id": "8fe50092",
   "metadata": {},
   "outputs": [
    {
     "data": {
      "text/plain": [
       "array([[5, 5, 5],\n",
       "       [5, 5, 5],\n",
       "       [5, 5, 5]])"
      ]
     },
     "execution_count": 2,
     "metadata": {},
     "output_type": "execute_result"
    }
   ],
   "source": [
    "np.full((3,3),5)"
   ]
  },
  {
   "cell_type": "code",
   "execution_count": 3,
   "id": "5727f519",
   "metadata": {},
   "outputs": [
    {
     "name": "stdout",
     "output_type": "stream",
     "text": [
      "[[5 5 5]\n",
      " [5 5 5]\n",
      " [5 5 5]]\n"
     ]
    }
   ],
   "source": [
    "import numpy as np\n",
    "def  solve(a, b):\n",
    "    return np.full((a), b)\n",
    "print(solve((3,3),5))"
   ]
  },
  {
   "cell_type": "code",
   "execution_count": null,
   "id": "dfda284e",
   "metadata": {},
   "outputs": [],
   "source": []
  },
  {
   "cell_type": "code",
   "execution_count": 4,
   "id": "56838450",
   "metadata": {},
   "outputs": [
    {
     "name": "stdout",
     "output_type": "stream",
     "text": [
      "[[ 0  2  2 10]\n",
      " [ 4  6  6 14]]\n"
     ]
    }
   ],
   "source": [
    "#2\n",
    "a=np.array([[0,1,2,3],[4,5,6,7]])\n",
    "b=np.array([[0,1,0,7]])\n",
    "print(a+b)"
   ]
  },
  {
   "cell_type": "code",
   "execution_count": 5,
   "id": "f461dd97",
   "metadata": {},
   "outputs": [
    {
     "name": "stdout",
     "output_type": "stream",
     "text": [
      "[[5 6]\n",
      " [8 9]]\n"
     ]
    }
   ],
   "source": [
    "a=np.array([1,2,3,4,5,6,7,8,9])\n",
    "x=a.reshape(3,3)\n",
    "def top_left(a,m,n):\n",
    "    print(a[m:,n:])\n",
    "top_left(x,1,1)"
   ]
  },
  {
   "cell_type": "code",
   "execution_count": 19,
   "id": "c82ba066",
   "metadata": {},
   "outputs": [
    {
     "name": "stdout",
     "output_type": "stream",
     "text": [
      "[array(['1', '2'], dtype='<U1'), array(['4', '5'], dtype='<U1')]\n"
     ]
    }
   ],
   "source": [
    "n= np.array([\n",
    "    ['1','2','3'],\n",
    "    ['4','5','6'],\n",
    "    ['7','8','9'],\n",
    "])\n",
    "m = [n[0][:2],\n",
    "     n[1][:2],\n",
    "    ]\n",
    "print(m)"
   ]
  },
  {
   "cell_type": "code",
   "execution_count": 7,
   "id": "067297de",
   "metadata": {},
   "outputs": [
    {
     "name": "stdout",
     "output_type": "stream",
     "text": [
      "{'Mean': 1.0, 'std_dev': 0.0}\n"
     ]
    }
   ],
   "source": [
    "arr=np.array([1,1,1])\n",
    "n=np.mean(arr)\n",
    "s=np.std(arr)\n",
    "d={\"Mean\":n,\"std_dev\":s}\n",
    "print(d)"
   ]
  },
  {
   "cell_type": "code",
   "execution_count": null,
   "id": "1dd2173a",
   "metadata": {},
   "outputs": [],
   "source": []
  },
  {
   "cell_type": "code",
   "execution_count": null,
   "id": "280ed1f6",
   "metadata": {},
   "outputs": [],
   "source": []
  },
  {
   "cell_type": "code",
   "execution_count": 8,
   "id": "482cdf29",
   "metadata": {},
   "outputs": [
    {
     "name": "stdout",
     "output_type": "stream",
     "text": [
      "[10, 20, 30, 'apple', True, 8.1, 30, 40]\n"
     ]
    }
   ],
   "source": [
    "mylist=[10,20,30,'apple',True,8.10]\n",
    "mylist.extend([30,40])\n",
    "print(mylist)"
   ]
  },
  {
   "cell_type": "code",
   "execution_count": 9,
   "id": "60981ae3",
   "metadata": {},
   "outputs": [],
   "source": [
    "c=mylist[:-1]"
   ]
  },
  {
   "cell_type": "code",
   "execution_count": 10,
   "id": "61a35720",
   "metadata": {},
   "outputs": [
    {
     "name": "stdout",
     "output_type": "stream",
     "text": [
      "[10, 20, 30, 'apple', True, 8.1, 30]\n"
     ]
    }
   ],
   "source": [
    "print(c)"
   ]
  },
  {
   "cell_type": "code",
   "execution_count": 11,
   "id": "f1ee63fe",
   "metadata": {},
   "outputs": [],
   "source": [
    "n_t=(10,20,30,40,50)"
   ]
  },
  {
   "cell_type": "code",
   "execution_count": 12,
   "id": "fcc10dc7",
   "metadata": {},
   "outputs": [
    {
     "data": {
      "text/plain": [
       "10"
      ]
     },
     "execution_count": 12,
     "metadata": {},
     "output_type": "execute_result"
    }
   ],
   "source": [
    "min(n_t)"
   ]
  },
  {
   "cell_type": "code",
   "execution_count": 13,
   "id": "42a12b64",
   "metadata": {},
   "outputs": [
    {
     "name": "stdout",
     "output_type": "stream",
     "text": [
      "{1, 2, 3, 4, 5, 6, 8, 9}\n"
     ]
    }
   ],
   "source": [
    "set1={1,2,3,4,5}\n",
    "set2={2,4,6,8,9}\n",
    "print(set1.union(set2))"
   ]
  },
  {
   "cell_type": "code",
   "execution_count": 14,
   "id": "12ae0457",
   "metadata": {},
   "outputs": [
    {
     "name": "stdout",
     "output_type": "stream",
     "text": [
      "[10, 20, 30, 'apple', True, 8.1, 30, 40]\n"
     ]
    }
   ],
   "source": [
    "mylist=[10,20,30,'apple',True,8.10]\n",
    "mylist.extend([30,40])\n",
    "print(mylist)\n",
    "c=mylist[::-1]"
   ]
  },
  {
   "cell_type": "code",
   "execution_count": 15,
   "id": "baa19e13",
   "metadata": {},
   "outputs": [
    {
     "name": "stdout",
     "output_type": "stream",
     "text": [
      "{1: 'data', 2: 'information', 3: 'text'}\n"
     ]
    }
   ],
   "source": [
    "d={1:\"data\",2:\"information\",3:\"text\"}\n",
    "print(d)\n"
   ]
  }
 ],
 "metadata": {
  "kernelspec": {
   "display_name": "Python 3",
   "language": "python",
   "name": "python3"
  },
  "language_info": {
   "codemirror_mode": {
    "name": "ipython",
    "version": 3
   },
   "file_extension": ".py",
   "mimetype": "text/x-python",
   "name": "python",
   "nbconvert_exporter": "python",
   "pygments_lexer": "ipython3",
   "version": "3.8.8"
  }
 },
 "nbformat": 4,
 "nbformat_minor": 5
}
