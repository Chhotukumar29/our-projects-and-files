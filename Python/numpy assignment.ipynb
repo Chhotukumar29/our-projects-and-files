{
 "cells": [
  {
   "cell_type": "code",
   "execution_count": 5,
   "id": "6490ab0f",
   "metadata": {},
   "outputs": [
    {
     "name": "stdout",
     "output_type": "stream",
     "text": [
      "3\n",
      "3\n",
      "[[5 5 5]\n",
      " [5 5 5]\n",
      " [5 5 5]]\n"
     ]
    }
   ],
   "source": [
    "# 1 question---> Assignment module 4\n",
    "\n",
    "import numpy as np\n",
    "def tu():\n",
    "    y = []\n",
    "    for i in range(2):\n",
    "        y.append(int(input()))\n",
    "    a = tuple(y)\n",
    "    b = np.full(a,5)\n",
    "    return b\n",
    "print(tu())"
   ]
  },
  {
   "cell_type": "code",
   "execution_count": 12,
   "id": "bf543330",
   "metadata": {},
   "outputs": [
    {
     "name": "stdout",
     "output_type": "stream",
     "text": [
      "[[ 2  6 10  9]\n",
      " [ 6 10 14 13]]\n"
     ]
    }
   ],
   "source": [
    "a = np.array([[0,1,2,3], [4,5,6,7]])\n",
    "b = np.array([[2,5,8,6]])\n",
    "print(a+b)"
   ]
  },
  {
   "cell_type": "code",
   "execution_count": 28,
   "id": "fa9b7e75",
   "metadata": {},
   "outputs": [
    {
     "name": "stdout",
     "output_type": "stream",
     "text": [
      "[[1 2]\n",
      " [4 5]]\n"
     ]
    }
   ],
   "source": [
    "import numpy as np\n",
    "a = np.array([1, 2, 3, 4, 5, 6, 7, 8, 9])\n",
    "x = a.reshape(3,3)\n",
    "def top_left(a,m,n):\n",
    "    print(a[:m,:n])\n",
    "top_left(x,2,2)"
   ]
  },
  {
   "cell_type": "code",
   "execution_count": null,
   "id": "9b7e517d",
   "metadata": {},
   "outputs": [],
   "source": [
    "import numpy as np\n",
    "\n",
    "arr = np.array([1,1,1])\n",
    "n = np.mean(arr)\n",
    "s = np.std(arr)\n",
    "d = {\"Mean\":n ,\"Std_dev\":s}\n",
    "print(d)"
   ]
  },
  {
   "cell_type": "code",
   "execution_count": 4,
   "id": "46f38a07",
   "metadata": {},
   "outputs": [
    {
     "name": "stdout",
     "output_type": "stream",
     "text": [
      "99980001\n"
     ]
    }
   ],
   "source": [
    "print(9999*9999)"
   ]
  },
  {
   "cell_type": "code",
   "execution_count": null,
   "id": "de796c0b",
   "metadata": {},
   "outputs": [],
   "source": []
  }
 ],
 "metadata": {
  "kernelspec": {
   "display_name": "Python 3",
   "language": "python",
   "name": "python3"
  },
  "language_info": {
   "codemirror_mode": {
    "name": "ipython",
    "version": 3
   },
   "file_extension": ".py",
   "mimetype": "text/x-python",
   "name": "python",
   "nbconvert_exporter": "python",
   "pygments_lexer": "ipython3",
   "version": "3.8.8"
  }
 },
 "nbformat": 4,
 "nbformat_minor": 5
}
