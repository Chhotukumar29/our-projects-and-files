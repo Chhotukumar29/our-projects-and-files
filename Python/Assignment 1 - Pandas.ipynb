{
 "cells": [
  {
   "cell_type": "raw",
   "id": "63f1d276",
   "metadata": {},
   "source": [
    "# Module 5"
   ]
  },
  {
   "cell_type": "code",
   "execution_count": 1,
   "id": "9d168097",
   "metadata": {},
   "outputs": [],
   "source": [
    "import numpy as np \n",
    "import pandas as pd "
   ]
  },
  {
   "cell_type": "raw",
   "id": "bf6f4970",
   "metadata": {},
   "source": [
    "1. Write a function that takes start and end of a range returns a Pandas series object containing numbers within that range.\n",
    "In case the user does not pass start or end or both they should default to 1 and 10 respectively.\n",
    "eg.\n",
    " range_series() -> Should Return a pandas series from 1 to 10\n",
    " range_series(5) -> Should Return a pandas series from 5 to 10\n",
    " range_series(5, 10) -> Should Return a pandas series from 5 to 10."
   ]
  },
  {
   "cell_type": "code",
   "execution_count": 2,
   "id": "b49ccf60",
   "metadata": {},
   "outputs": [
    {
     "data": {
      "text/plain": [
       "(0     1\n",
       " 1     2\n",
       " 2     3\n",
       " 3     4\n",
       " 4     5\n",
       " 5     6\n",
       " 6     7\n",
       " 7     8\n",
       " 8     9\n",
       " 9    10\n",
       " dtype: int32,\n",
       " 0     5\n",
       " 1     6\n",
       " 2     7\n",
       " 3     8\n",
       " 4     9\n",
       " 5    10\n",
       " dtype: int32,\n",
       " 0     5\n",
       " 1     6\n",
       " 2     7\n",
       " 3     8\n",
       " 4     9\n",
       " 5    10\n",
       " dtype: int32)"
      ]
     },
     "execution_count": 2,
     "metadata": {},
     "output_type": "execute_result"
    }
   ],
   "source": [
    "def range_series(*args):\n",
    "    if len(args) == 0:\n",
    "        kgf = pd.Series(np.arange(1,11))\n",
    "    elif len(args) == 1:\n",
    "        kgf = pd.Series(np.arange(args[0],11))\n",
    "    else:\n",
    "        kgf = pd.Series(np.arange(args[0],(args[1]+1)))\n",
    "    return kgf\n",
    "range_series(), range_series(5), range_series(5,10)"
   ]
  },
  {
   "cell_type": "code",
   "execution_count": 4,
   "id": "520ce1d0",
   "metadata": {},
   "outputs": [
    {
     "data": {
      "text/plain": [
       "(0     1\n",
       " 1     2\n",
       " 2     3\n",
       " 3     4\n",
       " 4     5\n",
       " 5     6\n",
       " 6     7\n",
       " 7     8\n",
       " 8     9\n",
       " 9    10\n",
       " dtype: int32,\n",
       " 0     3\n",
       " 1     4\n",
       " 2     5\n",
       " 3     6\n",
       " 4     7\n",
       " 5     8\n",
       " 6     9\n",
       " 7    10\n",
       " dtype: int32,\n",
       " 0     10\n",
       " 1     11\n",
       " 2     12\n",
       " 3     13\n",
       " 4     14\n",
       " 5     15\n",
       " 6     16\n",
       " 7     17\n",
       " 8     18\n",
       " 9     19\n",
       " 10    20\n",
       " dtype: int32)"
      ]
     },
     "execution_count": 4,
     "metadata": {},
     "output_type": "execute_result"
    }
   ],
   "source": [
    "range_series(), range_series(3), range_series(10,20)"
   ]
  },
  {
   "cell_type": "raw",
   "id": "d3c387ae",
   "metadata": {},
   "source": [
    "2. Create a function that takes in two lists named keys and values as arguments. Keys would be strings and contain n string values. Values would be a list containing n lists. The methods should return a new pandas dataframe with keys as column names and values as their corresponding values\n",
    "e.g. -> create_dataframe([\"One\", \"Two\"], [[\"X\", \"Y\"], [\"A\", \"B\"]]) -> should return a dataframe\n",
    "  One Two\n",
    "0  X   A\n",
    "1  Y   B"
   ]
  },
  {
   "cell_type": "code",
   "execution_count": 5,
   "id": "bbf2a206",
   "metadata": {},
   "outputs": [
    {
     "name": "stdout",
     "output_type": "stream",
     "text": [
      "  One Two\n",
      "0   X   A\n",
      "1   Y   B\n"
     ]
    }
   ],
   "source": [
    "def create_dataframe(keys, values, *val):\n",
    "    return pd.DataFrame(values, index=keys).T\n",
    "df = create_dataframe([\"One\", \"Two\"], [['X', \"Y\"],['A', 'B']])\n",
    "print(df)"
   ]
  },
  {
   "cell_type": "code",
   "execution_count": 6,
   "id": "4daa746d",
   "metadata": {},
   "outputs": [
    {
     "name": "stdout",
     "output_type": "stream",
     "text": [
      "  One Two   Three\n",
      "0   X   A   Apple\n",
      "1   Y   B   Mango\n",
      "2   Z   C  Banana\n"
     ]
    }
   ],
   "source": [
    "df1 = create_dataframe([\"One\", \"Two\", 'Three'], [['X', \"Y\", 'Z'],['A', 'B', 'C'],['Apple',\"Mango\", 'Banana']])\n",
    "print(df1)"
   ]
  },
  {
   "cell_type": "raw",
   "id": "6dfa5053",
   "metadata": {},
   "source": [
    "3. Create a function that concatenates two dataframes. Use previously created function to create two dataframes and pass them as parameters Make sure that the indexes are reset before returning."
   ]
  },
  {
   "cell_type": "code",
   "execution_count": 7,
   "id": "33f444f6",
   "metadata": {},
   "outputs": [
    {
     "data": {
      "text/html": [
       "<div>\n",
       "<style scoped>\n",
       "    .dataframe tbody tr th:only-of-type {\n",
       "        vertical-align: middle;\n",
       "    }\n",
       "\n",
       "    .dataframe tbody tr th {\n",
       "        vertical-align: top;\n",
       "    }\n",
       "\n",
       "    .dataframe thead th {\n",
       "        text-align: right;\n",
       "    }\n",
       "</style>\n",
       "<table border=\"1\" class=\"dataframe\">\n",
       "  <thead>\n",
       "    <tr style=\"text-align: right;\">\n",
       "      <th></th>\n",
       "      <th>One</th>\n",
       "      <th>Two</th>\n",
       "    </tr>\n",
       "  </thead>\n",
       "  <tbody>\n",
       "    <tr>\n",
       "      <th>0</th>\n",
       "      <td>W</td>\n",
       "      <td>A</td>\n",
       "    </tr>\n",
       "    <tr>\n",
       "      <th>1</th>\n",
       "      <td>X</td>\n",
       "      <td>B</td>\n",
       "    </tr>\n",
       "    <tr>\n",
       "      <th>2</th>\n",
       "      <td>Y</td>\n",
       "      <td>C</td>\n",
       "    </tr>\n",
       "    <tr>\n",
       "      <th>3</th>\n",
       "      <td>Z</td>\n",
       "      <td>D</td>\n",
       "    </tr>\n",
       "  </tbody>\n",
       "</table>\n",
       "</div>"
      ],
      "text/plain": [
       "  One Two\n",
       "0   W   A\n",
       "1   X   B\n",
       "2   Y   C\n",
       "3   Z   D"
      ]
     },
     "execution_count": 7,
     "metadata": {},
     "output_type": "execute_result"
    }
   ],
   "source": [
    "df2 = create_dataframe(['One', 'Two'], [['W', 'X'], ['A', 'B']])\n",
    "df3 = create_dataframe(['One', 'Two'], [['Y', 'Z'], ['C', 'D']])\n",
    "\n",
    "def concat_dfs(x,y):\n",
    "    return pd.concat([x,y], axis=0, ignore_index=True)\n",
    "concat_dfs(df2,df3)"
   ]
  },
  {
   "cell_type": "raw",
   "id": "35263366",
   "metadata": {},
   "source": [
    "4. Write code to load data from cars.csv into a dataframe and print its details. Details like: 'count', 'mean', 'std', 'min', '25%', '50%', '75%', 'max'."
   ]
  },
  {
   "cell_type": "code",
   "execution_count": 9,
   "id": "31a81c54",
   "metadata": {},
   "outputs": [
    {
     "data": {
      "text/html": [
       "<div>\n",
       "<style scoped>\n",
       "    .dataframe tbody tr th:only-of-type {\n",
       "        vertical-align: middle;\n",
       "    }\n",
       "\n",
       "    .dataframe tbody tr th {\n",
       "        vertical-align: top;\n",
       "    }\n",
       "\n",
       "    .dataframe thead th {\n",
       "        text-align: right;\n",
       "    }\n",
       "</style>\n",
       "<table border=\"1\" class=\"dataframe\">\n",
       "  <thead>\n",
       "    <tr style=\"text-align: right;\">\n",
       "      <th></th>\n",
       "      <th>mpg</th>\n",
       "      <th>cyl</th>\n",
       "      <th>disp</th>\n",
       "      <th>hp</th>\n",
       "      <th>drat</th>\n",
       "      <th>wt</th>\n",
       "      <th>qsec</th>\n",
       "      <th>vs</th>\n",
       "      <th>am</th>\n",
       "      <th>gear</th>\n",
       "      <th>carb</th>\n",
       "    </tr>\n",
       "  </thead>\n",
       "  <tbody>\n",
       "    <tr>\n",
       "      <th>count</th>\n",
       "      <td>32.000000</td>\n",
       "      <td>32.000000</td>\n",
       "      <td>32.000000</td>\n",
       "      <td>32.000000</td>\n",
       "      <td>32.000000</td>\n",
       "      <td>32.000000</td>\n",
       "      <td>32.000000</td>\n",
       "      <td>32.000000</td>\n",
       "      <td>32.000000</td>\n",
       "      <td>32.000000</td>\n",
       "      <td>32.0000</td>\n",
       "    </tr>\n",
       "    <tr>\n",
       "      <th>mean</th>\n",
       "      <td>20.090625</td>\n",
       "      <td>6.187500</td>\n",
       "      <td>230.721875</td>\n",
       "      <td>146.687500</td>\n",
       "      <td>3.596563</td>\n",
       "      <td>3.217250</td>\n",
       "      <td>17.848750</td>\n",
       "      <td>0.437500</td>\n",
       "      <td>0.406250</td>\n",
       "      <td>3.687500</td>\n",
       "      <td>2.8125</td>\n",
       "    </tr>\n",
       "    <tr>\n",
       "      <th>std</th>\n",
       "      <td>6.026948</td>\n",
       "      <td>1.785922</td>\n",
       "      <td>123.938694</td>\n",
       "      <td>68.562868</td>\n",
       "      <td>0.534679</td>\n",
       "      <td>0.978457</td>\n",
       "      <td>1.786943</td>\n",
       "      <td>0.504016</td>\n",
       "      <td>0.498991</td>\n",
       "      <td>0.737804</td>\n",
       "      <td>1.6152</td>\n",
       "    </tr>\n",
       "    <tr>\n",
       "      <th>min</th>\n",
       "      <td>10.400000</td>\n",
       "      <td>4.000000</td>\n",
       "      <td>71.100000</td>\n",
       "      <td>52.000000</td>\n",
       "      <td>2.760000</td>\n",
       "      <td>1.513000</td>\n",
       "      <td>14.500000</td>\n",
       "      <td>0.000000</td>\n",
       "      <td>0.000000</td>\n",
       "      <td>3.000000</td>\n",
       "      <td>1.0000</td>\n",
       "    </tr>\n",
       "    <tr>\n",
       "      <th>25%</th>\n",
       "      <td>15.425000</td>\n",
       "      <td>4.000000</td>\n",
       "      <td>120.825000</td>\n",
       "      <td>96.500000</td>\n",
       "      <td>3.080000</td>\n",
       "      <td>2.581250</td>\n",
       "      <td>16.892500</td>\n",
       "      <td>0.000000</td>\n",
       "      <td>0.000000</td>\n",
       "      <td>3.000000</td>\n",
       "      <td>2.0000</td>\n",
       "    </tr>\n",
       "    <tr>\n",
       "      <th>50%</th>\n",
       "      <td>19.200000</td>\n",
       "      <td>6.000000</td>\n",
       "      <td>196.300000</td>\n",
       "      <td>123.000000</td>\n",
       "      <td>3.695000</td>\n",
       "      <td>3.325000</td>\n",
       "      <td>17.710000</td>\n",
       "      <td>0.000000</td>\n",
       "      <td>0.000000</td>\n",
       "      <td>4.000000</td>\n",
       "      <td>2.0000</td>\n",
       "    </tr>\n",
       "    <tr>\n",
       "      <th>75%</th>\n",
       "      <td>22.800000</td>\n",
       "      <td>8.000000</td>\n",
       "      <td>326.000000</td>\n",
       "      <td>180.000000</td>\n",
       "      <td>3.920000</td>\n",
       "      <td>3.610000</td>\n",
       "      <td>18.900000</td>\n",
       "      <td>1.000000</td>\n",
       "      <td>1.000000</td>\n",
       "      <td>4.000000</td>\n",
       "      <td>4.0000</td>\n",
       "    </tr>\n",
       "    <tr>\n",
       "      <th>max</th>\n",
       "      <td>33.900000</td>\n",
       "      <td>8.000000</td>\n",
       "      <td>472.000000</td>\n",
       "      <td>335.000000</td>\n",
       "      <td>4.930000</td>\n",
       "      <td>5.424000</td>\n",
       "      <td>22.900000</td>\n",
       "      <td>1.000000</td>\n",
       "      <td>1.000000</td>\n",
       "      <td>5.000000</td>\n",
       "      <td>8.0000</td>\n",
       "    </tr>\n",
       "  </tbody>\n",
       "</table>\n",
       "</div>"
      ],
      "text/plain": [
       "             mpg        cyl        disp          hp       drat         wt  \\\n",
       "count  32.000000  32.000000   32.000000   32.000000  32.000000  32.000000   \n",
       "mean   20.090625   6.187500  230.721875  146.687500   3.596563   3.217250   \n",
       "std     6.026948   1.785922  123.938694   68.562868   0.534679   0.978457   \n",
       "min    10.400000   4.000000   71.100000   52.000000   2.760000   1.513000   \n",
       "25%    15.425000   4.000000  120.825000   96.500000   3.080000   2.581250   \n",
       "50%    19.200000   6.000000  196.300000  123.000000   3.695000   3.325000   \n",
       "75%    22.800000   8.000000  326.000000  180.000000   3.920000   3.610000   \n",
       "max    33.900000   8.000000  472.000000  335.000000   4.930000   5.424000   \n",
       "\n",
       "            qsec         vs         am       gear     carb  \n",
       "count  32.000000  32.000000  32.000000  32.000000  32.0000  \n",
       "mean   17.848750   0.437500   0.406250   3.687500   2.8125  \n",
       "std     1.786943   0.504016   0.498991   0.737804   1.6152  \n",
       "min    14.500000   0.000000   0.000000   3.000000   1.0000  \n",
       "25%    16.892500   0.000000   0.000000   3.000000   2.0000  \n",
       "50%    17.710000   0.000000   0.000000   4.000000   2.0000  \n",
       "75%    18.900000   1.000000   1.000000   4.000000   4.0000  \n",
       "max    22.900000   1.000000   1.000000   5.000000   8.0000  "
      ]
     },
     "execution_count": 9,
     "metadata": {},
     "output_type": "execute_result"
    }
   ],
   "source": [
    "cars = pd.read_csv(\"cars_1.csv\")\n",
    "cars.describe()"
   ]
  },
  {
   "cell_type": "raw",
   "id": "8713874e",
   "metadata": {},
   "source": [
    "5. Write a method that will take a column name as argument and return the name of the column with which the\n",
    "# given column has the highest correlation.\n",
    "# the data to be used is the car dataset.\n",
    "# the returned value should not the column named that was pass as the the parameters.\n",
    "# E.G: get_max_correlated_column(\"mpg\")--> should return 'drat.'"
   ]
  },
  {
   "cell_type": "code",
   "execution_count": 10,
   "id": "4ab68dd4",
   "metadata": {},
   "outputs": [
    {
     "data": {
      "text/plain": [
       "'drat'"
      ]
     },
     "execution_count": 10,
     "metadata": {},
     "output_type": "execute_result"
    }
   ],
   "source": [
    "corrcars = cars.corr()\n",
    "def get_max_correlated_column(x):\n",
    "    return corrcars[x].nlargest(2).index[1]\n",
    "    \n",
    "get_max_correlated_column('mpg')"
   ]
  },
  {
   "cell_type": "code",
   "execution_count": null,
   "id": "bc0a1118",
   "metadata": {},
   "outputs": [],
   "source": []
  }
 ],
 "metadata": {
  "kernelspec": {
   "display_name": "Python 3",
   "language": "python",
   "name": "python3"
  },
  "language_info": {
   "codemirror_mode": {
    "name": "ipython",
    "version": 3
   },
   "file_extension": ".py",
   "mimetype": "text/x-python",
   "name": "python",
   "nbconvert_exporter": "python",
   "pygments_lexer": "ipython3",
   "version": "3.8.8"
  }
 },
 "nbformat": 4,
 "nbformat_minor": 5
}
