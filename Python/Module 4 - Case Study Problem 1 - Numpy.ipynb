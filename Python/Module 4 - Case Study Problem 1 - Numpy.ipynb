{
 "cells": [
  {
   "cell_type": "markdown",
   "id": "f708d668",
   "metadata": {},
   "source": [
    "# Module 4 - Case Study Problem 1 - Numpy"
   ]
  },
  {
   "cell_type": "raw",
   "id": "ba9053d0",
   "metadata": {},
   "source": [
    "# 1. Create a function that takes dimensions as tuples e.g.(3, 3) and a numeric value and returns a Numpy array of the given dimension filled with the given value \n",
    "#  e.g.: solve((3, 3), 5) will return \n",
    "\n",
    "[\n",
    " [5, 5, 5],\n",
    " [5, 5, 5],\n",
    " [5, 5, 5]\n",
    "]"
   ]
  },
  {
   "cell_type": "code",
   "execution_count": 10,
   "id": "2e72bf3d",
   "metadata": {},
   "outputs": [
    {
     "name": "stdout",
     "output_type": "stream",
     "text": [
      "3\n",
      "3\n",
      "[[5 5 5]\n",
      " [5 5 5]\n",
      " [5 5 5]]\n"
     ]
    }
   ],
   "source": [
    "import numpy as np\n",
    "\n",
    "def solve():\n",
    "    y = []\n",
    "    for i in range(2):\n",
    "        y.append(int(input()))\n",
    "    a = tuple(y)\n",
    "    b = np.full(a,5)\n",
    "    return b\n",
    "print(solve())"
   ]
  },
  {
   "cell_type": "code",
   "execution_count": 7,
   "id": "445f24d7",
   "metadata": {},
   "outputs": [
    {
     "data": {
      "text/plain": [
       "array([[5, 5, 5],\n",
       "       [5, 5, 5],\n",
       "       [5, 5, 5]])"
      ]
     },
     "execution_count": 7,
     "metadata": {},
     "output_type": "execute_result"
    }
   ],
   "source": [
    "np.full((3,3),5)"
   ]
  },
  {
   "cell_type": "code",
   "execution_count": null,
   "id": "aa3fd252",
   "metadata": {},
   "outputs": [],
   "source": []
  },
  {
   "cell_type": "raw",
   "id": "7213c07d",
   "metadata": {},
   "source": [
    "2. Create a method that takes n Numpy arrays of same dimensions sums them and return the answer."
   ]
  },
  {
   "cell_type": "code",
   "execution_count": 11,
   "id": "5bd7acbd",
   "metadata": {},
   "outputs": [
    {
     "data": {
      "text/plain": [
       "array([[ 8,  5,  8],\n",
       "       [ 6,  6,  4],\n",
       "       [ 9, 10,  7]])"
      ]
     },
     "execution_count": 11,
     "metadata": {},
     "output_type": "execute_result"
    }
   ],
   "source": [
    "array1 = np.random.randint(0,5,(3,3))\n",
    "array2 = np.random.randint(0,5,(3,3))\n",
    "array3 = np.random.randint(0,5,(3,3))\n",
    "\n",
    "def array_sum():\n",
    "    array4 = array1+array2+array3\n",
    "    return array4\n",
    "\n",
    "array_sum()"
   ]
  },
  {
   "cell_type": "raw",
   "id": "f2f95ed7",
   "metadata": {},
   "source": [
    "3. Given a 2 D Array of N X M Dimension, Write a function that accepts this array as well as two\n",
    "numbers N and M. The method should return the top-left N X M sub matrix e.g:\n",
    " [\n",
    " [1, 2, 3],\n",
    " [4, 5, 6],\n",
    " [7, 8, 9],\n",
    " ]\n",
    "top_left_sub_matrix (matrix, 2, 2) -> should return:\n",
    " [\n",
    " [1, 2]\n",
    " [4, 5]\n",
    " ]"
   ]
  },
  {
   "cell_type": "code",
   "execution_count": 15,
   "id": "1abab9dd",
   "metadata": {},
   "outputs": [
    {
     "name": "stdout",
     "output_type": "stream",
     "text": [
      "[[10 81 93]\n",
      " [81 41 41]\n",
      " [ 7  1 63]]\n",
      "[[10 81]\n",
      " [81 41]]\n"
     ]
    }
   ],
   "source": [
    "arr = np.random.randint(0,100,(3,3))\n",
    "\n",
    "def top_left(arr,m,n):\n",
    "    print(arr)\n",
    "    print(arr[0:m,:n])\n",
    "\n",
    "top_left(arr,2,2)"
   ]
  },
  {
   "cell_type": "raw",
   "id": "a68f40da",
   "metadata": {},
   "source": [
    "4. Given a 2 D Array of N X M Dimension, Write a function that accepts this array as well as two\n",
    "numbers N and M The method should return the bottom-right N X M sub matrix e.g.:\n",
    " [\n",
    " [1, 2, 3],\n",
    " [4, 5, 6],\n",
    " [7, 8, 9],\n",
    " ]\n",
    "sub_matrix(matrix, 1, 1) -> should return : (Keep in mind these arrays are zero indexed)\n",
    " [\n",
    " [5, 6]\n",
    " [8, 9]\n",
    " ]"
   ]
  },
  {
   "cell_type": "code",
   "execution_count": 16,
   "id": "b342c2eb",
   "metadata": {},
   "outputs": [
    {
     "name": "stdout",
     "output_type": "stream",
     "text": [
      "[[20 68  3]\n",
      " [36 12 24]\n",
      " [93 75 49]]\n",
      "[[12 24]\n",
      " [75 49]]\n"
     ]
    }
   ],
   "source": [
    "arr = np.random.randint(0,100,(3,3))\n",
    "def bottom_right(arr,m,n):\n",
    "    print(arr)\n",
    "    print(arr[m:,n:])\n",
    "    \n",
    "bottom_right(arr,1,1)"
   ]
  },
  {
   "cell_type": "raw",
   "id": "7f4fc121",
   "metadata": {},
   "source": [
    "5. Given a 1 D Numpy Array. Write a function that accepts this array as parameters. The method\n",
    "should return a dictionary with 'mean' and 'std_dev' as key and array's mean and array's\n",
    "standard deviation as values:\n",
    " [1, 1, 1]\n",
    "solution(arr) -> should return :\n",
    " {'mean': 1.0, 'std_dev': 0.0}"
   ]
  },
  {
   "cell_type": "code",
   "execution_count": 17,
   "id": "223f0e76",
   "metadata": {},
   "outputs": [
    {
     "data": {
      "text/plain": [
       "{'Mean': 1.0, 'Std_dev': 0.0}"
      ]
     },
     "execution_count": 17,
     "metadata": {},
     "output_type": "execute_result"
    }
   ],
   "source": [
    "arr = np.array([1,1,1])\n",
    "def mean_std():\n",
    "    mn = np.mean(arr)\n",
    "    sd = np.std(arr)\n",
    "    res = {'Mean':mn, 'Std_dev':sd}\n",
    "    return res\n",
    "mean_std()   "
   ]
  },
  {
   "cell_type": "code",
   "execution_count": null,
   "id": "a50731a5",
   "metadata": {},
   "outputs": [],
   "source": []
  }
 ],
 "metadata": {
  "kernelspec": {
   "display_name": "Python 3",
   "language": "python",
   "name": "python3"
  },
  "language_info": {
   "codemirror_mode": {
    "name": "ipython",
    "version": 3
   },
   "file_extension": ".py",
   "mimetype": "text/x-python",
   "name": "python",
   "nbconvert_exporter": "python",
   "pygments_lexer": "ipython3",
   "version": "3.8.8"
  }
 },
 "nbformat": 4,
 "nbformat_minor": 5
}
