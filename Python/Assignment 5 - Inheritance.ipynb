{
 "cells": [
  {
   "cell_type": "markdown",
   "id": "3c1cd6a5",
   "metadata": {},
   "source": [
    "# Assignment 5 - Inheritance\n",
    "# Module 2 : Inheritance \n"
   ]
  },
  {
   "cell_type": "raw",
   "id": "1aff8be3",
   "metadata": {},
   "source": [
    "#1. Create a class named parent_Class and inside the class, initialize a global variable num as 10.\n",
    "#   a. Create another class named child_Class and this class should be inherited from the parent class.\n",
    "#   b. Now create an object for the child_Class and with the help of child_Class object, display the value of ‘num’."
   ]
  },
  {
   "cell_type": "code",
   "execution_count": 2,
   "id": "ce6e5ad1",
   "metadata": {},
   "outputs": [
    {
     "data": {
      "text/plain": [
       "10"
      ]
     },
     "execution_count": 2,
     "metadata": {},
     "output_type": "execute_result"
    }
   ],
   "source": [
    "class parent_class:\n",
    "    global num\n",
    "    num = 10\n",
    "\n",
    "class child_class(parent_class):\n",
    "    def dis(self):\n",
    "        return num\n",
    "\n",
    "CC = child_class()\n",
    "CC.dis()\n",
    "    "
   ]
  },
  {
   "cell_type": "raw",
   "id": "c9a0055d",
   "metadata": {},
   "source": [
    "#2. Create three class named A, B, and C.\n",
    "#    a. Inside the A class, create a constructor. Inside the constructor, initilize 2 global variables name and age.\n",
    "#    b. After initializing the global variables inside the constructor, now create a funtion named ‘details’\n",
    "#       and that function should return the ‘name’ variable.\n",
    "#    c. Inside the B class, create a constructor. Inside the contructor, initialize 2 global veriables name and id.\n",
    "#    d. After initializing the global variables inside the constructor, now create a funtion named ‘details’\n",
    "#       and that function should return the ‘name’ variable.\n",
    "#    e. The C class should inherit from class A, and B. Inside the class C, create a constructor, and\n",
    "#       inside the constructor, call the contructor of class A.\n",
    "#    f. Now, create a method inside the class C, as get_details, and this fucntion should return the value of name.\n",
    "#    g. Atlast, create an object of class C, and with the help of the object, call the get_details()."
   ]
  },
  {
   "cell_type": "code",
   "execution_count": 3,
   "id": "b7062334",
   "metadata": {},
   "outputs": [
    {
     "name": "stdout",
     "output_type": "stream",
     "text": [
      "Viansh\n"
     ]
    }
   ],
   "source": [
    "class A:\n",
    "    def __init__(self):\n",
    "        global name\n",
    "        global age\n",
    "    def details(self):\n",
    "        return name\n",
    "\n",
    "class B:\n",
    "    def __init__(self):\n",
    "        global name, ID\n",
    "    def get_details (self):\n",
    "        return name\n",
    "\n",
    "class C(A):\n",
    "    def __init__(self,name):\n",
    "        super().__init__()\n",
    "    def get_details(self,name):\n",
    "        return name\n",
    "c1 = C('VIansh')\n",
    "print(c1.get_details(\"Viansh\"))"
   ]
  },
  {
   "cell_type": "raw",
   "id": "50fc36c0",
   "metadata": {},
   "source": [
    "#3. Create a class named ‘Sub1’, inside the class, generate a user defined function named ‘first’ and inside the function,\n",
    "#    pass the following statement in the print()- ‘This is the first function from Sub 1 class’.\n",
    "#    a. Now create another class named ‘Sub2’, and inside the class, create a function named ‘second’, and pass\n",
    "#    the following message in the print()- ‘This is the second function from the Sub 2 class’.\n",
    "#    b. After that, create another class named ‘Super’ and inside that class, create a method named ‘final’, and pass\n",
    "#    the below message in the print()- ‘This is the final method from the super class’.\n",
    "#    c. Now, create an object for the Super class and call all the 3 user defined methods, i.e., first(), second(), and final()."
   ]
  },
  {
   "cell_type": "code",
   "execution_count": 5,
   "id": "8c11bbdc",
   "metadata": {},
   "outputs": [
    {
     "name": "stdout",
     "output_type": "stream",
     "text": [
      "This is the first function from Sub 1 class.\n",
      "This is the second function from the Sub 2 class.\n",
      "This is the final method from the super class.\n"
     ]
    }
   ],
   "source": [
    "class sub1:\n",
    "    def first(self):\n",
    "        print(\"This is the first function from Sub 1 class.\")\n",
    "class sub2(sub1):\n",
    "    def second(self):\n",
    "        print('This is the second function from the Sub 2 class.')\n",
    "class Super(sub2):\n",
    "    def final(self):\n",
    "        print('This is the final method from the super class.')\n",
    "A1 = Super()\n",
    "A1.first()\n",
    "A1.second()\n",
    "A1.final()"
   ]
  },
  {
   "cell_type": "code",
   "execution_count": null,
   "id": "dc77c562",
   "metadata": {},
   "outputs": [],
   "source": []
  },
  {
   "cell_type": "code",
   "execution_count": null,
   "id": "1dd855a8",
   "metadata": {},
   "outputs": [],
   "source": []
  },
  {
   "cell_type": "raw",
   "id": "2662d0a3",
   "metadata": {},
   "source": [
    "#4. Create a class named ‘Parent’, and inside the class, create a function named ‘fun1’ and\n",
    "#   pass the following message in the print()- ‘This is the message from the fun1’.\n",
    "#    a. Now create a class named ‘Child1’ and inside the class, create a method named ‘fun2’ and\n",
    "#       pass the following message in the print()- ‘This is the message from the fun2’.\n",
    "#    b. After that, create another class named ‘Child2’ and inside the class, create a method named ‘fun3’ and\n",
    "#       pass the following message in the print()- ‘This is the message from the fun3’.\n",
    "#    c. Now, create an object of Child2 class and with the help of the object, call the ‘fun1’ method from the ‘Parent’ class."
   ]
  },
  {
   "cell_type": "code",
   "execution_count": 6,
   "id": "38e1c8ae",
   "metadata": {},
   "outputs": [
    {
     "name": "stdout",
     "output_type": "stream",
     "text": [
      "This is the message from the fun1.\n"
     ]
    }
   ],
   "source": [
    "class Parent:\n",
    "    def fun1(self):\n",
    "        print(\"This is the message from the fun1.\")\n",
    "class Child1(Parent):\n",
    "    def fun2(self):\n",
    "        print('This is the message from the fun2.')\n",
    "class Child2(Parent):\n",
    "    def fun3(self):\n",
    "        print('This is the message from the fun3.')\n",
    "        \n",
    "c2=Child2() \n",
    "c2.fun1()"
   ]
  },
  {
   "cell_type": "raw",
   "id": "af896d1a",
   "metadata": {},
   "source": [
    "#5. Create a class named ‘Parent’, and inside the class, create a function named ‘fun1’ and pass\n",
    "#   the following message in the print()- ‘This is the message from the fun1’.\n",
    "#    a. Now create a class named ‘Child’ and inside the class, create a method named ‘fun2’ and pass\n",
    "#       the following message in the print()- ‘This is the message from the fun2’.\n",
    "#    b. After that, create another class named ‘Hybrid’ and inside the class, create a method named ‘fun3’ and\n",
    "#       pass the following message in the print()- ‘This is the message from the fun3’.\n",
    "#    c. Now, create an object of Hybrid class and with the help of the object, call the ‘fun1’, ‘fun2’, and ‘fun3’ methods.\n"
   ]
  },
  {
   "cell_type": "code",
   "execution_count": 7,
   "id": "eacfebea",
   "metadata": {},
   "outputs": [
    {
     "name": "stdout",
     "output_type": "stream",
     "text": [
      "This is the message from the fun3.\n",
      "This is the message from the fun2.\n",
      "This is the message from the fun1.\n"
     ]
    }
   ],
   "source": [
    "class Parent:\n",
    "    def fun1(self):\n",
    "        print(\"This is the message from the fun1.\")\n",
    "class Child(Parent):\n",
    "    def fun2(self):\n",
    "        print('This is the message from the fun2.')\n",
    "class Hybrid(Child):\n",
    "    def fun3(self):\n",
    "        print('This is the message from the fun3.')\n",
    "        \n",
    "h1=Hybrid()\n",
    "h1.fun3()\n",
    "h1.fun2()\n",
    "h1.fun1()"
   ]
  },
  {
   "cell_type": "code",
   "execution_count": null,
   "id": "48a3cf36",
   "metadata": {},
   "outputs": [],
   "source": []
  }
 ],
 "metadata": {
  "kernelspec": {
   "display_name": "Python 3",
   "language": "python",
   "name": "python3"
  },
  "language_info": {
   "codemirror_mode": {
    "name": "ipython",
    "version": 3
   },
   "file_extension": ".py",
   "mimetype": "text/x-python",
   "name": "python",
   "nbconvert_exporter": "python",
   "pygments_lexer": "ipython3",
   "version": "3.8.8"
  }
 },
 "nbformat": 4,
 "nbformat_minor": 5
}
